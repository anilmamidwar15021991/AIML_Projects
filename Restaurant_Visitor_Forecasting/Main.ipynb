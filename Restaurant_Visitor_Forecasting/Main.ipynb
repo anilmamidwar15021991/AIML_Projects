{
 "cells": [
  {
   "cell_type": "markdown",
   "id": "4463ac02-4f10-4c1c-a967-ba3e11e2e9bd",
   "metadata": {},
   "source": [
    "<div class=\"alert alert-info\" style=\"background-color:#006a79; color:white; padding:0px 10px; border-radius:5px;\"><h2 style='margin:10px 5px'>1. Problem Statement</h2>\n",
    "</div>"
   ]
  },
  {
   "cell_type": "markdown",
   "id": "f93b1693-da3c-440e-bdb9-f7f20a77731b",
   "metadata": {},
   "source": [
    "### Forecasting the visitor for restaurants\n"
   ]
  },
  {
   "cell_type": "code",
   "execution_count": null,
   "id": "5c55cc9e-2e8f-45d9-a6e0-72e159f9f013",
   "metadata": {},
   "outputs": [],
   "source": []
  },
  {
   "cell_type": "markdown",
   "id": "4df71854-8a41-44d9-97de-b86dd4929264",
   "metadata": {},
   "source": [
    "<div class=\"alert alert-info\" style=\"background-color:#006a79; color:white; padding:0px 10px; border-radius:5px;\"><h2 style='margin:10px 5px'>2. Load Data</h2>\n",
    "</div>"
   ]
  },
  {
   "cell_type": "code",
   "execution_count": 55,
   "id": "0ec17956-796b-46d6-8318-9415b9bef574",
   "metadata": {},
   "outputs": [],
   "source": [
    "#load the libraries\n",
    "import numpy as np\n",
    "import pandas as pd\n",
    "import matplotlib.pyplot as plt\n",
    "import seaborn as sns\n",
    "import warnings\n",
    "# Set Options\n",
    "pd.set_option('display.max_rows', 800)\n",
    "pd.set_option('display.max_columns', 500)\n",
    "pd.set_option('expand_frame_repr', False)\n",
    "%matplotlib inline\n",
    "warnings.filterwarnings(\"ignore\")"
   ]
  },
  {
   "cell_type": "code",
   "execution_count": 13,
   "id": "c60ef868-fc21-488e-8ae3-1b65646e04dc",
   "metadata": {},
   "outputs": [
    {
     "name": "stdout",
     "output_type": "stream",
     "text": [
      "CPU times: total: 1.2 s\n",
      "Wall time: 1.75 s\n"
     ]
    }
   ],
   "source": [
    "%%time\n",
    "#load the datasets\n",
    "#each resaturant has unique AIR id and HPG ig , we have store rleated data from two systems AIR, HPG\n",
    "air_store_info=pd.read_csv(\"Data_Restaurant_Visitor_Forecasting/air_store_info.csv\")   #air store info\n",
    "hpg_store_info=pd.read_csv(\"Data_Restaurant_Visitor_Forecasting/hpg_store_info.csv\")   #hpg stor einfo\n",
    "sample_submission=pd.read_csv(\"Data_Restaurant_Visitor_Forecasting/sample_submission.csv\")\n",
    "date_info=pd.read_csv(\"Data_Restaurant_Visitor_Forecasting/date_info.csv\")\n",
    "hpg_reserve=pd.read_csv(\"Data_Restaurant_Visitor_Forecasting/hpg_reserve.csv\")\n",
    "air_reserve=pd.read_csv(\"Data_Restaurant_Visitor_Forecasting/air_reserve.csv\")\n",
    "air_visit_data=pd.read_csv(\"Data_Restaurant_Visitor_Forecasting/air_visit_data.csv\")\n",
    "store_id_relation=pd.read_csv(\"Data_Restaurant_Visitor_Forecasting/store_id_relation.csv\")"
   ]
  },
  {
   "cell_type": "code",
   "execution_count": 14,
   "id": "1baa3df2-20bd-4520-acce-a0fd44dba1c1",
   "metadata": {},
   "outputs": [
    {
     "data": {
      "text/html": [
       "<div>\n",
       "<style scoped>\n",
       "    .dataframe tbody tr th:only-of-type {\n",
       "        vertical-align: middle;\n",
       "    }\n",
       "\n",
       "    .dataframe tbody tr th {\n",
       "        vertical-align: top;\n",
       "    }\n",
       "\n",
       "    .dataframe thead th {\n",
       "        text-align: right;\n",
       "    }\n",
       "</style>\n",
       "<table border=\"1\" class=\"dataframe\">\n",
       "  <thead>\n",
       "    <tr style=\"text-align: right;\">\n",
       "      <th></th>\n",
       "      <th>air_store_id</th>\n",
       "      <th>air_genre_name</th>\n",
       "      <th>air_area_name</th>\n",
       "      <th>latitude</th>\n",
       "      <th>longitude</th>\n",
       "    </tr>\n",
       "  </thead>\n",
       "  <tbody>\n",
       "    <tr>\n",
       "      <th>0</th>\n",
       "      <td>air_0f0cdeee6c9bf3d7</td>\n",
       "      <td>Italian/French</td>\n",
       "      <td>Hyōgo-ken Kōbe-shi Kumoidōri</td>\n",
       "      <td>34.695124</td>\n",
       "      <td>135.197853</td>\n",
       "    </tr>\n",
       "    <tr>\n",
       "      <th>1</th>\n",
       "      <td>air_7cc17a324ae5c7dc</td>\n",
       "      <td>Italian/French</td>\n",
       "      <td>Hyōgo-ken Kōbe-shi Kumoidōri</td>\n",
       "      <td>34.695124</td>\n",
       "      <td>135.197853</td>\n",
       "    </tr>\n",
       "    <tr>\n",
       "      <th>2</th>\n",
       "      <td>air_fee8dcf4d619598e</td>\n",
       "      <td>Italian/French</td>\n",
       "      <td>Hyōgo-ken Kōbe-shi Kumoidōri</td>\n",
       "      <td>34.695124</td>\n",
       "      <td>135.197853</td>\n",
       "    </tr>\n",
       "    <tr>\n",
       "      <th>3</th>\n",
       "      <td>air_a17f0778617c76e2</td>\n",
       "      <td>Italian/French</td>\n",
       "      <td>Hyōgo-ken Kōbe-shi Kumoidōri</td>\n",
       "      <td>34.695124</td>\n",
       "      <td>135.197853</td>\n",
       "    </tr>\n",
       "    <tr>\n",
       "      <th>4</th>\n",
       "      <td>air_83db5aff8f50478e</td>\n",
       "      <td>Italian/French</td>\n",
       "      <td>Tōkyō-to Minato-ku Shibakōen</td>\n",
       "      <td>35.658068</td>\n",
       "      <td>139.751599</td>\n",
       "    </tr>\n",
       "  </tbody>\n",
       "</table>\n",
       "</div>"
      ],
      "text/plain": [
       "           air_store_id  air_genre_name                 air_area_name  \\\n",
       "0  air_0f0cdeee6c9bf3d7  Italian/French  Hyōgo-ken Kōbe-shi Kumoidōri   \n",
       "1  air_7cc17a324ae5c7dc  Italian/French  Hyōgo-ken Kōbe-shi Kumoidōri   \n",
       "2  air_fee8dcf4d619598e  Italian/French  Hyōgo-ken Kōbe-shi Kumoidōri   \n",
       "3  air_a17f0778617c76e2  Italian/French  Hyōgo-ken Kōbe-shi Kumoidōri   \n",
       "4  air_83db5aff8f50478e  Italian/French  Tōkyō-to Minato-ku Shibakōen   \n",
       "\n",
       "    latitude   longitude  \n",
       "0  34.695124  135.197853  \n",
       "1  34.695124  135.197853  \n",
       "2  34.695124  135.197853  \n",
       "3  34.695124  135.197853  \n",
       "4  35.658068  139.751599  "
      ]
     },
     "execution_count": 14,
     "metadata": {},
     "output_type": "execute_result"
    }
   ],
   "source": [
    "air_store_info.head()"
   ]
  },
  {
   "cell_type": "code",
   "execution_count": 15,
   "id": "2fed6f21-e2a6-4d04-b2e0-b2d468490532",
   "metadata": {},
   "outputs": [
    {
     "data": {
      "text/html": [
       "<div>\n",
       "<style scoped>\n",
       "    .dataframe tbody tr th:only-of-type {\n",
       "        vertical-align: middle;\n",
       "    }\n",
       "\n",
       "    .dataframe tbody tr th {\n",
       "        vertical-align: top;\n",
       "    }\n",
       "\n",
       "    .dataframe thead th {\n",
       "        text-align: right;\n",
       "    }\n",
       "</style>\n",
       "<table border=\"1\" class=\"dataframe\">\n",
       "  <thead>\n",
       "    <tr style=\"text-align: right;\">\n",
       "      <th></th>\n",
       "      <th>hpg_store_id</th>\n",
       "      <th>hpg_genre_name</th>\n",
       "      <th>hpg_area_name</th>\n",
       "      <th>latitude</th>\n",
       "      <th>longitude</th>\n",
       "    </tr>\n",
       "  </thead>\n",
       "  <tbody>\n",
       "    <tr>\n",
       "      <th>0</th>\n",
       "      <td>hpg_6622b62385aec8bf</td>\n",
       "      <td>Japanese style</td>\n",
       "      <td>Tōkyō-to Setagaya-ku Taishidō</td>\n",
       "      <td>35.643675</td>\n",
       "      <td>139.668221</td>\n",
       "    </tr>\n",
       "    <tr>\n",
       "      <th>1</th>\n",
       "      <td>hpg_e9e068dd49c5fa00</td>\n",
       "      <td>Japanese style</td>\n",
       "      <td>Tōkyō-to Setagaya-ku Taishidō</td>\n",
       "      <td>35.643675</td>\n",
       "      <td>139.668221</td>\n",
       "    </tr>\n",
       "    <tr>\n",
       "      <th>2</th>\n",
       "      <td>hpg_2976f7acb4b3a3bc</td>\n",
       "      <td>Japanese style</td>\n",
       "      <td>Tōkyō-to Setagaya-ku Taishidō</td>\n",
       "      <td>35.643675</td>\n",
       "      <td>139.668221</td>\n",
       "    </tr>\n",
       "    <tr>\n",
       "      <th>3</th>\n",
       "      <td>hpg_e51a522e098f024c</td>\n",
       "      <td>Japanese style</td>\n",
       "      <td>Tōkyō-to Setagaya-ku Taishidō</td>\n",
       "      <td>35.643675</td>\n",
       "      <td>139.668221</td>\n",
       "    </tr>\n",
       "    <tr>\n",
       "      <th>4</th>\n",
       "      <td>hpg_e3d0e1519894f275</td>\n",
       "      <td>Japanese style</td>\n",
       "      <td>Tōkyō-to Setagaya-ku Taishidō</td>\n",
       "      <td>35.643675</td>\n",
       "      <td>139.668221</td>\n",
       "    </tr>\n",
       "  </tbody>\n",
       "</table>\n",
       "</div>"
      ],
      "text/plain": [
       "           hpg_store_id  hpg_genre_name                  hpg_area_name  \\\n",
       "0  hpg_6622b62385aec8bf  Japanese style  Tōkyō-to Setagaya-ku Taishidō   \n",
       "1  hpg_e9e068dd49c5fa00  Japanese style  Tōkyō-to Setagaya-ku Taishidō   \n",
       "2  hpg_2976f7acb4b3a3bc  Japanese style  Tōkyō-to Setagaya-ku Taishidō   \n",
       "3  hpg_e51a522e098f024c  Japanese style  Tōkyō-to Setagaya-ku Taishidō   \n",
       "4  hpg_e3d0e1519894f275  Japanese style  Tōkyō-to Setagaya-ku Taishidō   \n",
       "\n",
       "    latitude   longitude  \n",
       "0  35.643675  139.668221  \n",
       "1  35.643675  139.668221  \n",
       "2  35.643675  139.668221  \n",
       "3  35.643675  139.668221  \n",
       "4  35.643675  139.668221  "
      ]
     },
     "execution_count": 15,
     "metadata": {},
     "output_type": "execute_result"
    }
   ],
   "source": [
    "hpg_store_info.head()"
   ]
  },
  {
   "cell_type": "code",
   "execution_count": 16,
   "id": "8f2c31aa-9ece-4d51-a2ae-519e76e337a8",
   "metadata": {},
   "outputs": [
    {
     "data": {
      "text/html": [
       "<div>\n",
       "<style scoped>\n",
       "    .dataframe tbody tr th:only-of-type {\n",
       "        vertical-align: middle;\n",
       "    }\n",
       "\n",
       "    .dataframe tbody tr th {\n",
       "        vertical-align: top;\n",
       "    }\n",
       "\n",
       "    .dataframe thead th {\n",
       "        text-align: right;\n",
       "    }\n",
       "</style>\n",
       "<table border=\"1\" class=\"dataframe\">\n",
       "  <thead>\n",
       "    <tr style=\"text-align: right;\">\n",
       "      <th></th>\n",
       "      <th>calendar_date</th>\n",
       "      <th>day_of_week</th>\n",
       "      <th>holiday_flg</th>\n",
       "    </tr>\n",
       "  </thead>\n",
       "  <tbody>\n",
       "    <tr>\n",
       "      <th>0</th>\n",
       "      <td>2016-01-01</td>\n",
       "      <td>Friday</td>\n",
       "      <td>1</td>\n",
       "    </tr>\n",
       "    <tr>\n",
       "      <th>1</th>\n",
       "      <td>2016-01-02</td>\n",
       "      <td>Saturday</td>\n",
       "      <td>1</td>\n",
       "    </tr>\n",
       "    <tr>\n",
       "      <th>2</th>\n",
       "      <td>2016-01-03</td>\n",
       "      <td>Sunday</td>\n",
       "      <td>1</td>\n",
       "    </tr>\n",
       "    <tr>\n",
       "      <th>3</th>\n",
       "      <td>2016-01-04</td>\n",
       "      <td>Monday</td>\n",
       "      <td>0</td>\n",
       "    </tr>\n",
       "    <tr>\n",
       "      <th>4</th>\n",
       "      <td>2016-01-05</td>\n",
       "      <td>Tuesday</td>\n",
       "      <td>0</td>\n",
       "    </tr>\n",
       "  </tbody>\n",
       "</table>\n",
       "</div>"
      ],
      "text/plain": [
       "  calendar_date day_of_week  holiday_flg\n",
       "0    2016-01-01      Friday            1\n",
       "1    2016-01-02    Saturday            1\n",
       "2    2016-01-03      Sunday            1\n",
       "3    2016-01-04      Monday            0\n",
       "4    2016-01-05     Tuesday            0"
      ]
     },
     "execution_count": 16,
     "metadata": {},
     "output_type": "execute_result"
    }
   ],
   "source": [
    "date_info.head()"
   ]
  },
  {
   "cell_type": "code",
   "execution_count": 17,
   "id": "d293f4a3-5a23-4ade-bcba-f1e8dc6dcfab",
   "metadata": {},
   "outputs": [
    {
     "data": {
      "text/html": [
       "<div>\n",
       "<style scoped>\n",
       "    .dataframe tbody tr th:only-of-type {\n",
       "        vertical-align: middle;\n",
       "    }\n",
       "\n",
       "    .dataframe tbody tr th {\n",
       "        vertical-align: top;\n",
       "    }\n",
       "\n",
       "    .dataframe thead th {\n",
       "        text-align: right;\n",
       "    }\n",
       "</style>\n",
       "<table border=\"1\" class=\"dataframe\">\n",
       "  <thead>\n",
       "    <tr style=\"text-align: right;\">\n",
       "      <th></th>\n",
       "      <th>hpg_store_id</th>\n",
       "      <th>visit_datetime</th>\n",
       "      <th>reserve_datetime</th>\n",
       "      <th>reserve_visitors</th>\n",
       "    </tr>\n",
       "  </thead>\n",
       "  <tbody>\n",
       "    <tr>\n",
       "      <th>0</th>\n",
       "      <td>hpg_c63f6f42e088e50f</td>\n",
       "      <td>2016-01-01 11:00:00</td>\n",
       "      <td>2016-01-01 09:00:00</td>\n",
       "      <td>1</td>\n",
       "    </tr>\n",
       "    <tr>\n",
       "      <th>1</th>\n",
       "      <td>hpg_dac72789163a3f47</td>\n",
       "      <td>2016-01-01 13:00:00</td>\n",
       "      <td>2016-01-01 06:00:00</td>\n",
       "      <td>3</td>\n",
       "    </tr>\n",
       "    <tr>\n",
       "      <th>2</th>\n",
       "      <td>hpg_c8e24dcf51ca1eb5</td>\n",
       "      <td>2016-01-01 16:00:00</td>\n",
       "      <td>2016-01-01 14:00:00</td>\n",
       "      <td>2</td>\n",
       "    </tr>\n",
       "    <tr>\n",
       "      <th>3</th>\n",
       "      <td>hpg_24bb207e5fd49d4a</td>\n",
       "      <td>2016-01-01 17:00:00</td>\n",
       "      <td>2016-01-01 11:00:00</td>\n",
       "      <td>5</td>\n",
       "    </tr>\n",
       "    <tr>\n",
       "      <th>4</th>\n",
       "      <td>hpg_25291c542ebb3bc2</td>\n",
       "      <td>2016-01-01 17:00:00</td>\n",
       "      <td>2016-01-01 03:00:00</td>\n",
       "      <td>13</td>\n",
       "    </tr>\n",
       "  </tbody>\n",
       "</table>\n",
       "</div>"
      ],
      "text/plain": [
       "           hpg_store_id       visit_datetime     reserve_datetime  \\\n",
       "0  hpg_c63f6f42e088e50f  2016-01-01 11:00:00  2016-01-01 09:00:00   \n",
       "1  hpg_dac72789163a3f47  2016-01-01 13:00:00  2016-01-01 06:00:00   \n",
       "2  hpg_c8e24dcf51ca1eb5  2016-01-01 16:00:00  2016-01-01 14:00:00   \n",
       "3  hpg_24bb207e5fd49d4a  2016-01-01 17:00:00  2016-01-01 11:00:00   \n",
       "4  hpg_25291c542ebb3bc2  2016-01-01 17:00:00  2016-01-01 03:00:00   \n",
       "\n",
       "   reserve_visitors  \n",
       "0                 1  \n",
       "1                 3  \n",
       "2                 2  \n",
       "3                 5  \n",
       "4                13  "
      ]
     },
     "execution_count": 17,
     "metadata": {},
     "output_type": "execute_result"
    }
   ],
   "source": [
    "hpg_reserve.head()"
   ]
  },
  {
   "cell_type": "code",
   "execution_count": 18,
   "id": "36d9ad87-5d38-40b5-83af-b4180e8157be",
   "metadata": {},
   "outputs": [
    {
     "data": {
      "text/html": [
       "<div>\n",
       "<style scoped>\n",
       "    .dataframe tbody tr th:only-of-type {\n",
       "        vertical-align: middle;\n",
       "    }\n",
       "\n",
       "    .dataframe tbody tr th {\n",
       "        vertical-align: top;\n",
       "    }\n",
       "\n",
       "    .dataframe thead th {\n",
       "        text-align: right;\n",
       "    }\n",
       "</style>\n",
       "<table border=\"1\" class=\"dataframe\">\n",
       "  <thead>\n",
       "    <tr style=\"text-align: right;\">\n",
       "      <th></th>\n",
       "      <th>air_store_id</th>\n",
       "      <th>visit_date</th>\n",
       "      <th>visitors</th>\n",
       "    </tr>\n",
       "  </thead>\n",
       "  <tbody>\n",
       "    <tr>\n",
       "      <th>0</th>\n",
       "      <td>air_ba937bf13d40fb24</td>\n",
       "      <td>2016-01-13</td>\n",
       "      <td>25</td>\n",
       "    </tr>\n",
       "    <tr>\n",
       "      <th>1</th>\n",
       "      <td>air_ba937bf13d40fb24</td>\n",
       "      <td>2016-01-14</td>\n",
       "      <td>32</td>\n",
       "    </tr>\n",
       "    <tr>\n",
       "      <th>2</th>\n",
       "      <td>air_ba937bf13d40fb24</td>\n",
       "      <td>2016-01-15</td>\n",
       "      <td>29</td>\n",
       "    </tr>\n",
       "    <tr>\n",
       "      <th>3</th>\n",
       "      <td>air_ba937bf13d40fb24</td>\n",
       "      <td>2016-01-16</td>\n",
       "      <td>22</td>\n",
       "    </tr>\n",
       "    <tr>\n",
       "      <th>4</th>\n",
       "      <td>air_ba937bf13d40fb24</td>\n",
       "      <td>2016-01-18</td>\n",
       "      <td>6</td>\n",
       "    </tr>\n",
       "  </tbody>\n",
       "</table>\n",
       "</div>"
      ],
      "text/plain": [
       "           air_store_id  visit_date  visitors\n",
       "0  air_ba937bf13d40fb24  2016-01-13        25\n",
       "1  air_ba937bf13d40fb24  2016-01-14        32\n",
       "2  air_ba937bf13d40fb24  2016-01-15        29\n",
       "3  air_ba937bf13d40fb24  2016-01-16        22\n",
       "4  air_ba937bf13d40fb24  2016-01-18         6"
      ]
     },
     "execution_count": 18,
     "metadata": {},
     "output_type": "execute_result"
    }
   ],
   "source": [
    "air_visit_data.head()"
   ]
  },
  {
   "cell_type": "code",
   "execution_count": 19,
   "id": "ab3ba914-14c4-43fb-b42f-0df5afcdff8d",
   "metadata": {},
   "outputs": [
    {
     "data": {
      "text/html": [
       "<div>\n",
       "<style scoped>\n",
       "    .dataframe tbody tr th:only-of-type {\n",
       "        vertical-align: middle;\n",
       "    }\n",
       "\n",
       "    .dataframe tbody tr th {\n",
       "        vertical-align: top;\n",
       "    }\n",
       "\n",
       "    .dataframe thead th {\n",
       "        text-align: right;\n",
       "    }\n",
       "</style>\n",
       "<table border=\"1\" class=\"dataframe\">\n",
       "  <thead>\n",
       "    <tr style=\"text-align: right;\">\n",
       "      <th></th>\n",
       "      <th>air_store_id</th>\n",
       "      <th>hpg_store_id</th>\n",
       "    </tr>\n",
       "  </thead>\n",
       "  <tbody>\n",
       "    <tr>\n",
       "      <th>0</th>\n",
       "      <td>air_63b13c56b7201bd9</td>\n",
       "      <td>hpg_4bc649e72e2a239a</td>\n",
       "    </tr>\n",
       "    <tr>\n",
       "      <th>1</th>\n",
       "      <td>air_a24bf50c3e90d583</td>\n",
       "      <td>hpg_c34b496d0305a809</td>\n",
       "    </tr>\n",
       "    <tr>\n",
       "      <th>2</th>\n",
       "      <td>air_c7f78b4f3cba33ff</td>\n",
       "      <td>hpg_cd8ae0d9bbd58ff9</td>\n",
       "    </tr>\n",
       "    <tr>\n",
       "      <th>3</th>\n",
       "      <td>air_947eb2cae4f3e8f2</td>\n",
       "      <td>hpg_de24ea49dc25d6b8</td>\n",
       "    </tr>\n",
       "    <tr>\n",
       "      <th>4</th>\n",
       "      <td>air_965b2e0cf4119003</td>\n",
       "      <td>hpg_653238a84804d8e7</td>\n",
       "    </tr>\n",
       "  </tbody>\n",
       "</table>\n",
       "</div>"
      ],
      "text/plain": [
       "           air_store_id          hpg_store_id\n",
       "0  air_63b13c56b7201bd9  hpg_4bc649e72e2a239a\n",
       "1  air_a24bf50c3e90d583  hpg_c34b496d0305a809\n",
       "2  air_c7f78b4f3cba33ff  hpg_cd8ae0d9bbd58ff9\n",
       "3  air_947eb2cae4f3e8f2  hpg_de24ea49dc25d6b8\n",
       "4  air_965b2e0cf4119003  hpg_653238a84804d8e7"
      ]
     },
     "execution_count": 19,
     "metadata": {},
     "output_type": "execute_result"
    }
   ],
   "source": [
    "store_id_relation.head()"
   ]
  },
  {
   "cell_type": "markdown",
   "id": "6102571c-b07a-4f22-b3fd-c590eb2af3ac",
   "metadata": {},
   "source": [
    "### Inference \n",
    "* there are total 6 dataset with hotel visitors data, hotel location, date, and all"
   ]
  },
  {
   "cell_type": "markdown",
   "id": "6df87364-65c6-4162-a5f3-fba4db810d01",
   "metadata": {},
   "source": [
    "<div class=\"alert alert-info\" style=\"background-color:#006a79; color:white; padding:0px 10px; border-radius:5px;\"><h2 style='margin:10px 5px'>3.Understanding Data - Univariate Analysis</h2>\n",
    "</div>"
   ]
  },
  {
   "cell_type": "markdown",
   "id": "956137c3-024d-4b08-a4a9-6f2a5a4f49e2",
   "metadata": {},
   "source": [
    "### \n",
    "Before attempting to solve the problem, it's very important to have a good understanding of data.\n",
    "\n",
    "The goal of this section is to:\n",
    "- Get shape and summary of data frames\n",
    "- Get various statistics of data\n",
    "- Get inferences or action items for next step"
   ]
  },
  {
   "cell_type": "code",
   "execution_count": 68,
   "id": "e761257a-88d4-4719-9f01-328af9098384",
   "metadata": {},
   "outputs": [],
   "source": [
    "def understanddata(df):\n",
    "    print(f\"dimesnion of dataset \\n{df.shape}\\n\\n\") #dimension of dataset\n",
    "    print(f\"summary of dataset \\n {df.describe()}\\n\\n\") #summary of dataset\n",
    "    print(f\"{df.info()}\\n\\n\")\n",
    "    stats=[]\n",
    "    for col in df.columns:\n",
    "        stats.append((col,df[col].nunique(),df[col].isnull().sum()*100/df.shape[0],df[col].value_counts(normalize=True,dropna=False).values[0]*100,df[col].dtype))\n",
    "\n",
    "    stats_df=pd.DataFrame(stats,columns=['feature','unique','perc of missing values','perc of values of the  biggest category','col dtype'])\n",
    "    print(f\"Statics of dataset are- \\n\\n{stats_df.sort_values('perc of missing values',ascending=False)}\\n\\n\")    \n",
    "                          \n",
    "                     "
   ]
  },
  {
   "cell_type": "markdown",
   "id": "c33486b7-05ea-4dfd-a99c-7155b1673cef",
   "metadata": {},
   "source": [
    "#### Store info data -Air, HPG "
   ]
  },
  {
   "cell_type": "code",
   "execution_count": 69,
   "id": "9510fcd4-dd91-41d8-9f61-b455aba14728",
   "metadata": {},
   "outputs": [
    {
     "name": "stdout",
     "output_type": "stream",
     "text": [
      "dimesnion of dataset \n",
      "(829, 5)\n",
      "\n",
      "\n",
      "summary of dataset \n",
      "          latitude   longitude\n",
      "count  829.000000  829.000000\n",
      "mean    35.647042  137.415311\n",
      "std      2.084659    3.650971\n",
      "min     33.211967  130.195555\n",
      "25%     34.695124  135.341564\n",
      "50%     35.658068  139.685474\n",
      "75%     35.694003  139.751599\n",
      "max     44.020632  144.273398\n",
      "\n",
      "\n",
      "<class 'pandas.core.frame.DataFrame'>\n",
      "RangeIndex: 829 entries, 0 to 828\n",
      "Data columns (total 5 columns):\n",
      " #   Column          Non-Null Count  Dtype  \n",
      "---  ------          --------------  -----  \n",
      " 0   air_store_id    829 non-null    object \n",
      " 1   air_genre_name  829 non-null    object \n",
      " 2   air_area_name   829 non-null    object \n",
      " 3   latitude        829 non-null    float64\n",
      " 4   longitude       829 non-null    float64\n",
      "dtypes: float64(2), object(3)\n",
      "memory usage: 32.5+ KB\n",
      "None\n",
      "\n",
      "\n",
      "Statics of dataset are- \n",
      "\n",
      "          feature  unique  perc of missing values  perc of values of the  biggest category col dtype\n",
      "0    air_store_id     829                     0.0                                 0.120627    object\n",
      "1  air_genre_name      14                     0.0                                23.763571    object\n",
      "2   air_area_name     103                     0.0                                 7.720145    object\n",
      "3        latitude     108                     0.0                                 7.478890   float64\n",
      "4       longitude     108                     0.0                                 7.478890   float64\n",
      "\n",
      "\n"
     ]
    }
   ],
   "source": [
    "#store info data\n",
    "understanddata(air_store_info)\n"
   ]
  },
  {
   "cell_type": "code",
   "execution_count": 70,
   "id": "90ef9169-6569-4c12-8e89-a688083cf667",
   "metadata": {},
   "outputs": [
    {
     "name": "stdout",
     "output_type": "stream",
     "text": [
      "dimesnion of dataset \n",
      "(4690, 5)\n",
      "\n",
      "\n",
      "summary of dataset \n",
      "           latitude    longitude\n",
      "count  4690.000000  4690.000000\n",
      "mean     35.810261   137.675816\n",
      "std       2.138755     3.197233\n",
      "min      33.311645   130.339313\n",
      "25%      34.692109   135.498859\n",
      "50%      35.659214   139.495733\n",
      "75%      35.703381   139.737998\n",
      "max      43.774846   143.714585\n",
      "\n",
      "\n",
      "<class 'pandas.core.frame.DataFrame'>\n",
      "RangeIndex: 4690 entries, 0 to 4689\n",
      "Data columns (total 5 columns):\n",
      " #   Column          Non-Null Count  Dtype  \n",
      "---  ------          --------------  -----  \n",
      " 0   hpg_store_id    4690 non-null   object \n",
      " 1   hpg_genre_name  4690 non-null   object \n",
      " 2   hpg_area_name   4690 non-null   object \n",
      " 3   latitude        4690 non-null   float64\n",
      " 4   longitude       4690 non-null   float64\n",
      "dtypes: float64(2), object(3)\n",
      "memory usage: 183.3+ KB\n",
      "None\n",
      "\n",
      "\n",
      "Statics of dataset are- \n",
      "\n",
      "          feature  unique  perc of missing values  perc of values of the  biggest category col dtype\n",
      "0    hpg_store_id    4690                     0.0                                 0.021322    object\n",
      "1  hpg_genre_name      34                     0.0                                37.313433    object\n",
      "2   hpg_area_name     119                     0.0                                 5.479744    object\n",
      "3        latitude     129                     0.0                                 5.479744   float64\n",
      "4       longitude     129                     0.0                                 5.479744   float64\n",
      "\n",
      "\n"
     ]
    }
   ],
   "source": [
    "understanddata(hpg_store_info)"
   ]
  },
  {
   "cell_type": "markdown",
   "id": "2e46b085-c5cd-4db6-b47c-a8c59996ab14",
   "metadata": {},
   "source": [
    "<div class=\"alert alert-info\" style=\"padding:0px 10px; border-radius:5px;\"><h3 style='margin:10px 5px'> Inferences:</h3>\n",
    "</div>\n",
    "\n",
    "* Air has 859 store info and HPG has 4690\n",
    "* Both dataset has 5 unique columns\n",
    "* No missing data in both datasets"
   ]
  },
  {
   "cell_type": "markdown",
   "id": "f1d618cb-4422-4f1d-94be-467608af386a",
   "metadata": {},
   "source": [
    "#### Store Visit Data- Air"
   ]
  },
  {
   "cell_type": "code",
   "execution_count": 82,
   "id": "b870c71b-e3bf-43a4-8e39-8aa40e2c7721",
   "metadata": {},
   "outputs": [
    {
     "name": "stdout",
     "output_type": "stream",
     "text": [
      "dimesnion of dataset \n",
      "(252108, 3)\n",
      "\n",
      "\n",
      "summary of dataset \n",
      "             visitors\n",
      "count  252108.000000\n",
      "mean       20.973761\n",
      "std        16.757007\n",
      "min         1.000000\n",
      "25%         9.000000\n",
      "50%        17.000000\n",
      "75%        29.000000\n",
      "max       877.000000\n",
      "\n",
      "\n",
      "<class 'pandas.core.frame.DataFrame'>\n",
      "RangeIndex: 252108 entries, 0 to 252107\n",
      "Data columns (total 3 columns):\n",
      " #   Column        Non-Null Count   Dtype \n",
      "---  ------        --------------   ----- \n",
      " 0   air_store_id  252108 non-null  object\n",
      " 1   visit_date    252108 non-null  object\n",
      " 2   visitors      252108 non-null  int64 \n",
      "dtypes: int64(1), object(2)\n",
      "memory usage: 5.8+ MB\n",
      "None\n",
      "\n",
      "\n",
      "Statics of dataset are- \n",
      "\n",
      "        feature  unique  perc of missing values  perc of values of the  biggest category col dtype\n",
      "0  air_store_id     829                     0.0                                 0.189205    object\n",
      "1    visit_date     478                     0.0                                 0.316928    object\n",
      "2      visitors     204                     0.0                                 3.444952     int64\n",
      "\n",
      "\n"
     ]
    }
   ],
   "source": [
    "understanddata(air_visit_data)"
   ]
  },
  {
   "cell_type": "code",
   "execution_count": 83,
   "id": "fde905fe-aa2c-4d7a-8450-6f27186db485",
   "metadata": {},
   "outputs": [
    {
     "name": "stdout",
     "output_type": "stream",
     "text": [
      "2016-01-01 2017-04-22\n",
      "days -477\n"
     ]
    }
   ],
   "source": [
    "#min amd max date of vsist\n",
    "min,max=air_visit_data.visit_date.min(),air_visit_data.visit_date.max()\n",
    "print(min,max)\n",
    "print(f\"days {(pd.to_datetime(min)-pd.to_datetime(max)).days}\")"
   ]
  },
  {
   "cell_type": "code",
   "execution_count": 84,
   "id": "9cb6ad9e-e43e-4395-ab56-b7f0e7638329",
   "metadata": {},
   "outputs": [
    {
     "data": {
      "text/plain": [
       "array([], dtype=object)"
      ]
     },
     "execution_count": 84,
     "metadata": {},
     "output_type": "execute_result"
    }
   ],
   "source": [
    "# Stores present in air visit data not present in air store info\n",
    "np.setdiff1d(air_visit_data.air_store_id,air_store_info.air_store_id)"
   ]
  },
  {
   "cell_type": "markdown",
   "id": "914d4e2b-6d79-4556-a9fa-5712012b7d14",
   "metadata": {},
   "source": [
    "<div class=\"alert alert-info\" style=\"padding:0px 10px; border-radius:5px;\"><h3 style='margin:10px 5px'> Inferences:</h3>\n",
    "</div>\n",
    "\n",
    "* Air has total 252108 visitor and 478 unique dates\n",
    "* all store id's(829) from visitors are present in AIR store dataset\n",
    "* This is the main training data\n",
    "* no missing data, total days data 477\n"
   ]
  },
  {
   "cell_type": "markdown",
   "id": "0aa4f278-ed03-4a60-97e4-aa429fd88d6f",
   "metadata": {},
   "source": [
    "### Reservation Data - HPG , AIR"
   ]
  },
  {
   "cell_type": "code",
   "execution_count": 88,
   "id": "a136cd90-ecb8-46c2-92ac-09b8797f7c1a",
   "metadata": {},
   "outputs": [
    {
     "name": "stdout",
     "output_type": "stream",
     "text": [
      "dimesnion of dataset \n",
      "(2000320, 4)\n",
      "\n",
      "\n",
      "summary of dataset \n",
      "        reserve_visitors\n",
      "count      2.000320e+06\n",
      "mean       5.073785e+00\n",
      "std        5.416172e+00\n",
      "min        1.000000e+00\n",
      "25%        2.000000e+00\n",
      "50%        3.000000e+00\n",
      "75%        6.000000e+00\n",
      "max        1.000000e+02\n",
      "\n",
      "\n",
      "<class 'pandas.core.frame.DataFrame'>\n",
      "RangeIndex: 2000320 entries, 0 to 2000319\n",
      "Data columns (total 4 columns):\n",
      " #   Column            Dtype \n",
      "---  ------            ----- \n",
      " 0   hpg_store_id      object\n",
      " 1   visit_datetime    object\n",
      " 2   reserve_datetime  object\n",
      " 3   reserve_visitors  int64 \n",
      "dtypes: int64(1), object(3)\n",
      "memory usage: 61.0+ MB\n",
      "None\n",
      "\n",
      "\n",
      "Statics of dataset are- \n",
      "\n",
      "            feature  unique  perc of missing values  perc of values of the  biggest category col dtype\n",
      "0      hpg_store_id   13325                     0.0                                 0.057741    object\n",
      "1    visit_datetime    9847                     0.0                                 0.526316    object\n",
      "2  reserve_datetime   11450                     0.0                                 0.045343    object\n",
      "3  reserve_visitors      99                     0.0                                34.891267     int64\n",
      "\n",
      "\n"
     ]
    }
   ],
   "source": [
    "understanddata(hpg_reserve)"
   ]
  },
  {
   "cell_type": "code",
   "execution_count": 97,
   "id": "30e58a20-413b-416d-9c4f-7bc4f9e3e58e",
   "metadata": {},
   "outputs": [
    {
     "name": "stdout",
     "output_type": "stream",
     "text": [
      "2016-01-01 00:00:00 2017-04-22 23:00:00\n",
      "days -478\n"
     ]
    }
   ],
   "source": [
    "#min and max date time reserve date time \n",
    "min,max=hpg_reserve.reserve_datetime.min(),hpg_reserve.reserve_datetime.max()\n",
    "print(min,max)\n",
    "print(f\"days {(pd.to_datetime(min)-pd.to_datetime(max)).days}\")"
   ]
  },
  {
   "cell_type": "code",
   "execution_count": 98,
   "id": "ab3cd19e-8e17-44d7-bf98-61846fecbcf2",
   "metadata": {},
   "outputs": [
    {
     "name": "stdout",
     "output_type": "stream",
     "text": [
      "2016-01-01 11:00:00 2017-05-31 23:00:00\n",
      "days -517\n"
     ]
    }
   ],
   "source": [
    "#min and max date time  for hpg visit \n",
    "min,max=hpg_reserve.visit_datetime.min(),hpg_reserve.visit_datetime.max()\n",
    "print(min,max)\n",
    "print(f\"days {(pd.to_datetime(min)-pd.to_datetime(max)).days}\")"
   ]
  },
  {
   "cell_type": "code",
   "execution_count": 90,
   "id": "51bd94b1-8bb8-48ea-8342-840b5eab047b",
   "metadata": {},
   "outputs": [
    {
     "data": {
      "text/plain": [
       "array(['hpg_001112ef76b9802c', 'hpg_0023b061a9f3279a',\n",
       "       'hpg_0025a7a2ddb76a01', ..., 'hpg_fffa3b36bc525136',\n",
       "       'hpg_fffa98e9f58176a9', 'hpg_fffc097dce87af3e'], dtype=object)"
      ]
     },
     "execution_count": 90,
     "metadata": {},
     "output_type": "execute_result"
    }
   ],
   "source": [
    "#stores present in hpg stores and reerve data\n",
    "np.setdiff1d(hpg_reserve.hpg_store_id,hpg_store_info.hpg_store_id)"
   ]
  },
  {
   "cell_type": "code",
   "execution_count": 92,
   "id": "a4696485-df74-49d1-a1de-47c90e3c6922",
   "metadata": {},
   "outputs": [
    {
     "name": "stdout",
     "output_type": "stream",
     "text": [
      "dimesnion of dataset \n",
      "(92378, 4)\n",
      "\n",
      "\n",
      "summary of dataset \n",
      "        reserve_visitors\n",
      "count      92378.000000\n",
      "mean           4.481749\n",
      "std            4.919669\n",
      "min            1.000000\n",
      "25%            2.000000\n",
      "50%            3.000000\n",
      "75%            5.000000\n",
      "max          100.000000\n",
      "\n",
      "\n",
      "<class 'pandas.core.frame.DataFrame'>\n",
      "RangeIndex: 92378 entries, 0 to 92377\n",
      "Data columns (total 4 columns):\n",
      " #   Column            Non-Null Count  Dtype \n",
      "---  ------            --------------  ----- \n",
      " 0   air_store_id      92378 non-null  object\n",
      " 1   visit_datetime    92378 non-null  object\n",
      " 2   reserve_datetime  92378 non-null  object\n",
      " 3   reserve_visitors  92378 non-null  int64 \n",
      "dtypes: int64(1), object(3)\n",
      "memory usage: 2.8+ MB\n",
      "None\n",
      "\n",
      "\n",
      "Statics of dataset are- \n",
      "\n",
      "            feature  unique  perc of missing values  perc of values of the  biggest category col dtype\n",
      "0      air_store_id     314                     0.0                                 2.449717    object\n",
      "1    visit_datetime    4975                     0.0                                 0.276040    object\n",
      "2  reserve_datetime    7513                     0.0                                 0.114746    object\n",
      "3  reserve_visitors      71                     0.0                                41.808656     int64\n",
      "\n",
      "\n"
     ]
    }
   ],
   "source": [
    "# AIR reservation data\n",
    "understanddata(air_reserve)"
   ]
  },
  {
   "cell_type": "code",
   "execution_count": 95,
   "id": "6c10dea1-c56d-4d1e-81d6-1e58513bae48",
   "metadata": {},
   "outputs": [
    {
     "name": "stdout",
     "output_type": "stream",
     "text": [
      "2016-01-01 01:00:00 2017-04-22 23:00:00\n",
      "days -478\n"
     ]
    }
   ],
   "source": [
    "#min and max date time in reservation\n",
    "min,max=air_reserve.reserve_datetime.min(),air_reserve.reserve_datetime.max()\n",
    "print(min,max)\n",
    "print(f\"days {(pd.to_datetime(min)-pd.to_datetime(max)).days}\")"
   ]
  },
  {
   "cell_type": "code",
   "execution_count": 96,
   "id": "9379c071-9bba-4839-b69d-c5886bb8c077",
   "metadata": {},
   "outputs": [
    {
     "name": "stdout",
     "output_type": "stream",
     "text": [
      "2016-01-01 19:00:00 2017-05-31 21:00:00\n",
      "days -517\n"
     ]
    }
   ],
   "source": [
    "#min and max date time in visit datetime\n",
    "min,max=air_reserve.visit_datetime.min(),air_reserve.visit_datetime.max()\n",
    "print(min,max)\n",
    "print(f\"days {(pd.to_datetime(min)-pd.to_datetime(max)).days}\")"
   ]
  },
  {
   "cell_type": "code",
   "execution_count": 99,
   "id": "0f014384-3f66-4c6c-9837-dcaf51520b29",
   "metadata": {},
   "outputs": [
    {
     "data": {
      "text/plain": [
       "array([], dtype=object)"
      ]
     },
     "execution_count": 99,
     "metadata": {},
     "output_type": "execute_result"
    }
   ],
   "source": [
    "#stores present in air stores info and air reserve info\n",
    "np.setdiff1d(air_reserve.air_store_id,air_store_info.air_store_id)"
   ]
  },
  {
   "cell_type": "markdown",
   "id": "24dea7dc-b4f0-41a0-8461-a2dd51fa5351",
   "metadata": {},
   "source": [
    "<div class=\"alert alert-info\" style=\"padding:0px 10px; border-radius:5px;\"><h3 style='margin:10px 5px'> Inferences:</h3>\n",
    "</div>\n",
    "\n",
    "- 314 stores in air data (unique air_store_ids)\n",
    "- 13325 stores in hpg data\n",
    "- Missing values are not there in any data\n",
    "- Both the dataset have 5 columns - id,genre_name,area_name_latitude,longitude\n",
    "- All the stores in air reserve data have store information in air store info data\n",
    "- HPG reserve data has more stores compared to hpg store info data. 8635 stores in hpg reserve data doesn't have store information in hpg store info data"
   ]
  },
  {
   "cell_type": "markdown",
   "id": "66b3d4b6-6d26-4bdd-ad9c-b98ab574e7d1",
   "metadata": {},
   "source": [
    "#### Undertsnad AIR store and HPG store relation "
   ]
  },
  {
   "cell_type": "code",
   "execution_count": 101,
   "id": "4c66c5a4-e17a-419b-b7b1-981b64b4d981",
   "metadata": {},
   "outputs": [
    {
     "name": "stdout",
     "output_type": "stream",
     "text": [
      "dimesnion of dataset \n",
      "(150, 2)\n",
      "\n",
      "\n",
      "summary of dataset \n",
      "                 air_store_id          hpg_store_id\n",
      "count                    150                   150\n",
      "unique                   150                   150\n",
      "top     air_63b13c56b7201bd9  hpg_4bc649e72e2a239a\n",
      "freq                       1                     1\n",
      "\n",
      "\n",
      "<class 'pandas.core.frame.DataFrame'>\n",
      "RangeIndex: 150 entries, 0 to 149\n",
      "Data columns (total 2 columns):\n",
      " #   Column        Non-Null Count  Dtype \n",
      "---  ------        --------------  ----- \n",
      " 0   air_store_id  150 non-null    object\n",
      " 1   hpg_store_id  150 non-null    object\n",
      "dtypes: object(2)\n",
      "memory usage: 2.5+ KB\n",
      "None\n",
      "\n",
      "\n",
      "Statics of dataset are- \n",
      "\n",
      "        feature  unique  perc of missing values  perc of values of the  biggest category col dtype\n",
      "0  air_store_id     150                     0.0                                 0.666667    object\n",
      "1  hpg_store_id     150                     0.0                                 0.666667    object\n",
      "\n",
      "\n"
     ]
    }
   ],
   "source": [
    "understanddata(store_id_relation)"
   ]
  },
  {
   "cell_type": "code",
   "execution_count": 102,
   "id": "55db27e1-e217-4364-9aed-54faa5218a71",
   "metadata": {},
   "outputs": [
    {
     "name": "stdout",
     "output_type": "stream",
     "text": [
      "dimesnion of dataset \n",
      "(32019, 2)\n",
      "\n",
      "\n",
      "summary of dataset \n",
      "        visitors\n",
      "count   32019.0\n",
      "mean        0.0\n",
      "std         0.0\n",
      "min         0.0\n",
      "25%         0.0\n",
      "50%         0.0\n",
      "75%         0.0\n",
      "max         0.0\n",
      "\n",
      "\n",
      "<class 'pandas.core.frame.DataFrame'>\n",
      "RangeIndex: 32019 entries, 0 to 32018\n",
      "Data columns (total 2 columns):\n",
      " #   Column    Non-Null Count  Dtype \n",
      "---  ------    --------------  ----- \n",
      " 0   id        32019 non-null  object\n",
      " 1   visitors  32019 non-null  int64 \n",
      "dtypes: int64(1), object(1)\n",
      "memory usage: 500.4+ KB\n",
      "None\n",
      "\n",
      "\n",
      "Statics of dataset are- \n",
      "\n",
      "    feature  unique  perc of missing values  perc of values of the  biggest category col dtype\n",
      "0        id   32019                     0.0                                 0.003123    object\n",
      "1  visitors       1                     0.0                               100.000000     int64\n",
      "\n",
      "\n"
     ]
    }
   ],
   "source": [
    "understanddata(sample_submission)"
   ]
  },
  {
   "cell_type": "code",
   "execution_count": 103,
   "id": "d633bddb-6a04-454c-9ef2-7b98c0277381",
   "metadata": {},
   "outputs": [
    {
     "data": {
      "text/html": [
       "<div>\n",
       "<style scoped>\n",
       "    .dataframe tbody tr th:only-of-type {\n",
       "        vertical-align: middle;\n",
       "    }\n",
       "\n",
       "    .dataframe tbody tr th {\n",
       "        vertical-align: top;\n",
       "    }\n",
       "\n",
       "    .dataframe thead th {\n",
       "        text-align: right;\n",
       "    }\n",
       "</style>\n",
       "<table border=\"1\" class=\"dataframe\">\n",
       "  <thead>\n",
       "    <tr style=\"text-align: right;\">\n",
       "      <th></th>\n",
       "      <th>id</th>\n",
       "      <th>visitors</th>\n",
       "    </tr>\n",
       "  </thead>\n",
       "  <tbody>\n",
       "    <tr>\n",
       "      <th>0</th>\n",
       "      <td>air_00a91d42b08b08d9_2017-04-23</td>\n",
       "      <td>0</td>\n",
       "    </tr>\n",
       "    <tr>\n",
       "      <th>1</th>\n",
       "      <td>air_00a91d42b08b08d9_2017-04-24</td>\n",
       "      <td>0</td>\n",
       "    </tr>\n",
       "    <tr>\n",
       "      <th>2</th>\n",
       "      <td>air_00a91d42b08b08d9_2017-04-25</td>\n",
       "      <td>0</td>\n",
       "    </tr>\n",
       "    <tr>\n",
       "      <th>3</th>\n",
       "      <td>air_00a91d42b08b08d9_2017-04-26</td>\n",
       "      <td>0</td>\n",
       "    </tr>\n",
       "    <tr>\n",
       "      <th>4</th>\n",
       "      <td>air_00a91d42b08b08d9_2017-04-27</td>\n",
       "      <td>0</td>\n",
       "    </tr>\n",
       "  </tbody>\n",
       "</table>\n",
       "</div>"
      ],
      "text/plain": [
       "                                id  visitors\n",
       "0  air_00a91d42b08b08d9_2017-04-23         0\n",
       "1  air_00a91d42b08b08d9_2017-04-24         0\n",
       "2  air_00a91d42b08b08d9_2017-04-25         0\n",
       "3  air_00a91d42b08b08d9_2017-04-26         0\n",
       "4  air_00a91d42b08b08d9_2017-04-27         0"
      ]
     },
     "execution_count": 103,
     "metadata": {},
     "output_type": "execute_result"
    }
   ],
   "source": [
    "sample_submission.head()"
   ]
  },
  {
   "cell_type": "code",
   "execution_count": 104,
   "id": "21c958e8-de0c-4e38-9ba7-f252f2fe26d9",
   "metadata": {},
   "outputs": [
    {
     "data": {
      "text/html": [
       "<div>\n",
       "<style scoped>\n",
       "    .dataframe tbody tr th:only-of-type {\n",
       "        vertical-align: middle;\n",
       "    }\n",
       "\n",
       "    .dataframe tbody tr th {\n",
       "        vertical-align: top;\n",
       "    }\n",
       "\n",
       "    .dataframe thead th {\n",
       "        text-align: right;\n",
       "    }\n",
       "</style>\n",
       "<table border=\"1\" class=\"dataframe\">\n",
       "  <thead>\n",
       "    <tr style=\"text-align: right;\">\n",
       "      <th></th>\n",
       "      <th>id</th>\n",
       "      <th>visitors</th>\n",
       "      <th>visit_date</th>\n",
       "      <th>air_store_id</th>\n",
       "      <th>store_type</th>\n",
       "    </tr>\n",
       "  </thead>\n",
       "  <tbody>\n",
       "    <tr>\n",
       "      <th>0</th>\n",
       "      <td>air_00a91d42b08b08d9_2017-04-23</td>\n",
       "      <td>0</td>\n",
       "      <td>2017-04-23</td>\n",
       "      <td>air_00a91d42b08b08d9</td>\n",
       "      <td>air</td>\n",
       "    </tr>\n",
       "    <tr>\n",
       "      <th>1</th>\n",
       "      <td>air_00a91d42b08b08d9_2017-04-24</td>\n",
       "      <td>0</td>\n",
       "      <td>2017-04-24</td>\n",
       "      <td>air_00a91d42b08b08d9</td>\n",
       "      <td>air</td>\n",
       "    </tr>\n",
       "    <tr>\n",
       "      <th>2</th>\n",
       "      <td>air_00a91d42b08b08d9_2017-04-25</td>\n",
       "      <td>0</td>\n",
       "      <td>2017-04-25</td>\n",
       "      <td>air_00a91d42b08b08d9</td>\n",
       "      <td>air</td>\n",
       "    </tr>\n",
       "    <tr>\n",
       "      <th>3</th>\n",
       "      <td>air_00a91d42b08b08d9_2017-04-26</td>\n",
       "      <td>0</td>\n",
       "      <td>2017-04-26</td>\n",
       "      <td>air_00a91d42b08b08d9</td>\n",
       "      <td>air</td>\n",
       "    </tr>\n",
       "    <tr>\n",
       "      <th>4</th>\n",
       "      <td>air_00a91d42b08b08d9_2017-04-27</td>\n",
       "      <td>0</td>\n",
       "      <td>2017-04-27</td>\n",
       "      <td>air_00a91d42b08b08d9</td>\n",
       "      <td>air</td>\n",
       "    </tr>\n",
       "  </tbody>\n",
       "</table>\n",
       "</div>"
      ],
      "text/plain": [
       "                                id  visitors  visit_date          air_store_id store_type\n",
       "0  air_00a91d42b08b08d9_2017-04-23         0  2017-04-23  air_00a91d42b08b08d9        air\n",
       "1  air_00a91d42b08b08d9_2017-04-24         0  2017-04-24  air_00a91d42b08b08d9        air\n",
       "2  air_00a91d42b08b08d9_2017-04-25         0  2017-04-25  air_00a91d42b08b08d9        air\n",
       "3  air_00a91d42b08b08d9_2017-04-26         0  2017-04-26  air_00a91d42b08b08d9        air\n",
       "4  air_00a91d42b08b08d9_2017-04-27         0  2017-04-27  air_00a91d42b08b08d9        air"
      ]
     },
     "execution_count": 104,
     "metadata": {},
     "output_type": "execute_result"
    }
   ],
   "source": [
    "sample_submission['visit_date']=sample_submission.apply(lambda x:x['id'].split('_')[2],axis=1)\n",
    "sample_submission['air_store_id']=sample_submission.apply(lambda x:x['id'].split('_')[0] + \"_\"+x['id'].split('_')[1],axis=1)\n",
    "sample_submission['store_type']=sample_submission.apply(lambda x:x['id'].split('_')[0],axis=1)\n",
    "sample_submission.head()"
   ]
  },
  {
   "cell_type": "code",
   "execution_count": 105,
   "id": "46445b8a-493d-48d7-b142-f78f1f9a6454",
   "metadata": {},
   "outputs": [
    {
     "name": "stdout",
     "output_type": "stream",
     "text": [
      "dimesnion of dataset \n",
      "(32019, 5)\n",
      "\n",
      "\n",
      "summary of dataset \n",
      "        visitors\n",
      "count   32019.0\n",
      "mean        0.0\n",
      "std         0.0\n",
      "min         0.0\n",
      "25%         0.0\n",
      "50%         0.0\n",
      "75%         0.0\n",
      "max         0.0\n",
      "\n",
      "\n",
      "<class 'pandas.core.frame.DataFrame'>\n",
      "RangeIndex: 32019 entries, 0 to 32018\n",
      "Data columns (total 5 columns):\n",
      " #   Column        Non-Null Count  Dtype \n",
      "---  ------        --------------  ----- \n",
      " 0   id            32019 non-null  object\n",
      " 1   visitors      32019 non-null  int64 \n",
      " 2   visit_date    32019 non-null  object\n",
      " 3   air_store_id  32019 non-null  object\n",
      " 4   store_type    32019 non-null  object\n",
      "dtypes: int64(1), object(4)\n",
      "memory usage: 1.2+ MB\n",
      "None\n",
      "\n",
      "\n",
      "Statics of dataset are- \n",
      "\n",
      "        feature  unique  perc of missing values  perc of values of the  biggest category col dtype\n",
      "0            id   32019                     0.0                                 0.003123    object\n",
      "1      visitors       1                     0.0                               100.000000     int64\n",
      "2    visit_date      39                     0.0                                 2.564103    object\n",
      "3  air_store_id     821                     0.0                                 0.121803    object\n",
      "4    store_type       1                     0.0                               100.000000    object\n",
      "\n",
      "\n"
     ]
    }
   ],
   "source": [
    "understanddata(sample_submission)"
   ]
  },
  {
   "cell_type": "code",
   "execution_count": 106,
   "id": "e9067314-5efd-4457-ae82-6b1f62c59636",
   "metadata": {},
   "outputs": [
    {
     "name": "stdout",
     "output_type": "stream",
     "text": [
      "2017-04-23\n",
      "2017-05-31\n"
     ]
    }
   ],
   "source": [
    "#datetime need to predict from sample submission data\n",
    "print(sample_submission.visit_date.min())\n",
    "print(sample_submission.visit_date.max())"
   ]
  },
  {
   "cell_type": "code",
   "execution_count": 110,
   "id": "9f5e41b7-1815-4d91-823a-d0e247daedef",
   "metadata": {},
   "outputs": [
    {
     "name": "stdout",
     "output_type": "stream",
     "text": [
      "[]\n",
      "[]\n"
     ]
    }
   ],
   "source": [
    "#stores present in sample submission data  and not is air store info\n",
    "print(np.setdiff1d(sample_submission.air_store_id,air_store_info.air_store_id))\n",
    "\n",
    "#stores present in sample submission data  and not is air visit info\n",
    "print(np.setdiff1d(sample_submission.air_store_id,air_visit_data.air_store_id))"
   ]
  },
  {
   "cell_type": "markdown",
   "id": "8e2f7995-cf0d-4642-b430-931b9e2e7b27",
   "metadata": {},
   "source": [
    "<div class=\"alert alert-info\" style=\"padding:0px 10px; border-radius:5px;\"><h3 style='margin:10px 5px'> Inferences:</h3>\n",
    "</div>\n",
    "\n",
    "- All the predictions needs to be made for air stores,since sample submission has only AIR stores data\n",
    "- Predictions needs to be made for 821 stores for 39 days each \n",
    "- All the stores are present in air store info data and air visit data\n",
    "- Since predictions needs to be made for air stores, air stores data should not be lost while merging the dataset\n"
   ]
  },
  {
   "cell_type": "markdown",
   "id": "ef5e191a-5df0-4a40-9e87-26cac9de8d9c",
   "metadata": {},
   "source": [
    "<div class=\"alert alert-info\" style=\"background-color:#006a79; color:white; padding:0px 10px; border-radius:5px;\"><h2 style='margin:10px 5px'>4.Data Preprocessing -Phase 1</h2>\n",
    "</div>rm one"
   ]
  },
  {
   "cell_type": "markdown",
   "id": "da59a1c0-c576-4019-8b52-fb74464e6211",
   "metadata": {},
   "source": [
    "###  The goal of this section is to:\n",
    "\n",
    "* Merge stores data (air & hpg) to get common information\n",
    "* Merge reserves data to get common reservation information\n",
    "* Engineer holiday related features\n",
    "* Merge all the datasets to create one mega dataset for training\n",
    "* Let's start with the first task to merge datasets to form one"
   ]
  },
  {
   "cell_type": "markdown",
   "id": "ac4a20f6-7db7-4b7e-b0fe-f6fbe8feb531",
   "metadata": {},
   "source": [
    "#### Prepare store info "
   ]
  },
  {
   "cell_type": "code",
   "execution_count": 114,
   "id": "086c1b13-c46f-43c4-96cb-224500e3bdaf",
   "metadata": {},
   "outputs": [
    {
     "data": {
      "text/plain": [
       "(829, 5)"
      ]
     },
     "execution_count": 114,
     "metadata": {},
     "output_type": "execute_result"
    }
   ],
   "source": [
    "air_store_info.shape"
   ]
  },
  {
   "cell_type": "code",
   "execution_count": 113,
   "id": "3a691bed-24a3-4a45-b078-d2a2cb9a08cf",
   "metadata": {},
   "outputs": [
    {
     "data": {
      "text/plain": [
       "(150, 2)"
      ]
     },
     "execution_count": 113,
     "metadata": {},
     "output_type": "execute_result"
    }
   ],
   "source": [
    "store_id_relation.shape"
   ]
  },
  {
   "cell_type": "code",
   "execution_count": 118,
   "id": "942ab26d-5814-43ca-8bd7-688ec8b2e340",
   "metadata": {},
   "outputs": [
    {
     "data": {
      "text/html": [
       "<div>\n",
       "<style scoped>\n",
       "    .dataframe tbody tr th:only-of-type {\n",
       "        vertical-align: middle;\n",
       "    }\n",
       "\n",
       "    .dataframe tbody tr th {\n",
       "        vertical-align: top;\n",
       "    }\n",
       "\n",
       "    .dataframe thead th {\n",
       "        text-align: right;\n",
       "    }\n",
       "</style>\n",
       "<table border=\"1\" class=\"dataframe\">\n",
       "  <thead>\n",
       "    <tr style=\"text-align: right;\">\n",
       "      <th></th>\n",
       "      <th>air_store_id</th>\n",
       "      <th>air_genre_name</th>\n",
       "      <th>air_area_name</th>\n",
       "      <th>latitude</th>\n",
       "      <th>longitude</th>\n",
       "      <th>hpg_store_id</th>\n",
       "    </tr>\n",
       "  </thead>\n",
       "  <tbody>\n",
       "    <tr>\n",
       "      <th>0</th>\n",
       "      <td>air_0f0cdeee6c9bf3d7</td>\n",
       "      <td>Italian/French</td>\n",
       "      <td>Hyōgo-ken Kōbe-shi Kumoidōri</td>\n",
       "      <td>34.695124</td>\n",
       "      <td>135.197853</td>\n",
       "      <td>NaN</td>\n",
       "    </tr>\n",
       "    <tr>\n",
       "      <th>1</th>\n",
       "      <td>air_7cc17a324ae5c7dc</td>\n",
       "      <td>Italian/French</td>\n",
       "      <td>Hyōgo-ken Kōbe-shi Kumoidōri</td>\n",
       "      <td>34.695124</td>\n",
       "      <td>135.197853</td>\n",
       "      <td>hpg_9b38b9e13da6da27</td>\n",
       "    </tr>\n",
       "    <tr>\n",
       "      <th>2</th>\n",
       "      <td>air_fee8dcf4d619598e</td>\n",
       "      <td>Italian/French</td>\n",
       "      <td>Hyōgo-ken Kōbe-shi Kumoidōri</td>\n",
       "      <td>34.695124</td>\n",
       "      <td>135.197853</td>\n",
       "      <td>NaN</td>\n",
       "    </tr>\n",
       "    <tr>\n",
       "      <th>3</th>\n",
       "      <td>air_a17f0778617c76e2</td>\n",
       "      <td>Italian/French</td>\n",
       "      <td>Hyōgo-ken Kōbe-shi Kumoidōri</td>\n",
       "      <td>34.695124</td>\n",
       "      <td>135.197853</td>\n",
       "      <td>NaN</td>\n",
       "    </tr>\n",
       "    <tr>\n",
       "      <th>4</th>\n",
       "      <td>air_83db5aff8f50478e</td>\n",
       "      <td>Italian/French</td>\n",
       "      <td>Tōkyō-to Minato-ku Shibakōen</td>\n",
       "      <td>35.658068</td>\n",
       "      <td>139.751599</td>\n",
       "      <td>NaN</td>\n",
       "    </tr>\n",
       "  </tbody>\n",
       "</table>\n",
       "</div>"
      ],
      "text/plain": [
       "           air_store_id  air_genre_name                 air_area_name   latitude   longitude          hpg_store_id\n",
       "0  air_0f0cdeee6c9bf3d7  Italian/French  Hyōgo-ken Kōbe-shi Kumoidōri  34.695124  135.197853                   NaN\n",
       "1  air_7cc17a324ae5c7dc  Italian/French  Hyōgo-ken Kōbe-shi Kumoidōri  34.695124  135.197853  hpg_9b38b9e13da6da27\n",
       "2  air_fee8dcf4d619598e  Italian/French  Hyōgo-ken Kōbe-shi Kumoidōri  34.695124  135.197853                   NaN\n",
       "3  air_a17f0778617c76e2  Italian/French  Hyōgo-ken Kōbe-shi Kumoidōri  34.695124  135.197853                   NaN\n",
       "4  air_83db5aff8f50478e  Italian/French  Tōkyō-to Minato-ku Shibakōen  35.658068  139.751599                   NaN"
      ]
     },
     "execution_count": 118,
     "metadata": {},
     "output_type": "execute_result"
    }
   ],
   "source": [
    "store_df=pd.merge(air_store_info,store_id_relation,on='air_store_id',how='left')\n",
    "store_df.head()"
   ]
  },
  {
   "cell_type": "markdown",
   "id": "9a1ba45c-016f-40c0-9473-073c1e778981",
   "metadata": {},
   "source": [
    "How many stores didn't find a matching `hpg_store_id`?"
   ]
  },
  {
   "cell_type": "code",
   "execution_count": 122,
   "id": "3bdf4491-15e5-4884-a768-8cf02d8aa6c9",
   "metadata": {},
   "outputs": [
    {
     "data": {
      "text/plain": [
       "0.8190591073582629"
      ]
     },
     "execution_count": 122,
     "metadata": {},
     "output_type": "execute_result"
    }
   ],
   "source": [
    "store_df.hpg_store_id.isna().sum()/store_df.shape[0]"
   ]
  },
  {
   "cell_type": "code",
   "execution_count": 124,
   "id": "e70da82f-9219-44c7-9119-e89daf0a88c3",
   "metadata": {},
   "outputs": [
    {
     "data": {
      "text/plain": [
       "(4690, 5)"
      ]
     },
     "execution_count": 124,
     "metadata": {},
     "output_type": "execute_result"
    }
   ],
   "source": [
    "hpg_store_info.shape\n"
   ]
  },
  {
   "cell_type": "markdown",
   "id": "9dcf08de-f850-49a7-b8d5-bf9ba20d78ab",
   "metadata": {},
   "source": [
    "#### add *hpg_store* info "
   ]
  },
  {
   "cell_type": "code",
   "execution_count": 137,
   "id": "3dd4eeae-414f-46c4-b717-bc487727f215",
   "metadata": {},
   "outputs": [
    {
     "data": {
      "text/html": [
       "<div>\n",
       "<style scoped>\n",
       "    .dataframe tbody tr th:only-of-type {\n",
       "        vertical-align: middle;\n",
       "    }\n",
       "\n",
       "    .dataframe tbody tr th {\n",
       "        vertical-align: top;\n",
       "    }\n",
       "\n",
       "    .dataframe thead th {\n",
       "        text-align: right;\n",
       "    }\n",
       "</style>\n",
       "<table border=\"1\" class=\"dataframe\">\n",
       "  <thead>\n",
       "    <tr style=\"text-align: right;\">\n",
       "      <th></th>\n",
       "      <th>hpg_store_id</th>\n",
       "      <th>hpg_genre_name</th>\n",
       "      <th>hpg_area_name</th>\n",
       "      <th>latitude</th>\n",
       "      <th>longitude</th>\n",
       "    </tr>\n",
       "  </thead>\n",
       "  <tbody>\n",
       "    <tr>\n",
       "      <th>0</th>\n",
       "      <td>hpg_6622b62385aec8bf</td>\n",
       "      <td>hpg_9b38b9e13da6da27</td>\n",
       "      <td>Tōkyō-to Setagaya-ku Taishidō</td>\n",
       "      <td>35.643675</td>\n",
       "      <td>139.668221</td>\n",
       "    </tr>\n",
       "    <tr>\n",
       "      <th>1</th>\n",
       "      <td>hpg_e9e068dd49c5fa00</td>\n",
       "      <td>hpg_9b38b9e13da6da27</td>\n",
       "      <td>Tōkyō-to Setagaya-ku Taishidō</td>\n",
       "      <td>35.643675</td>\n",
       "      <td>139.668221</td>\n",
       "    </tr>\n",
       "    <tr>\n",
       "      <th>2</th>\n",
       "      <td>hpg_2976f7acb4b3a3bc</td>\n",
       "      <td>hpg_9b38b9e13da6da27</td>\n",
       "      <td>Tōkyō-to Setagaya-ku Taishidō</td>\n",
       "      <td>35.643675</td>\n",
       "      <td>139.668221</td>\n",
       "    </tr>\n",
       "    <tr>\n",
       "      <th>3</th>\n",
       "      <td>hpg_e51a522e098f024c</td>\n",
       "      <td>hpg_9b38b9e13da6da27</td>\n",
       "      <td>Tōkyō-to Setagaya-ku Taishidō</td>\n",
       "      <td>35.643675</td>\n",
       "      <td>139.668221</td>\n",
       "    </tr>\n",
       "    <tr>\n",
       "      <th>4</th>\n",
       "      <td>hpg_e3d0e1519894f275</td>\n",
       "      <td>hpg_9b38b9e13da6da27</td>\n",
       "      <td>Tōkyō-to Setagaya-ku Taishidō</td>\n",
       "      <td>35.643675</td>\n",
       "      <td>139.668221</td>\n",
       "    </tr>\n",
       "    <tr>\n",
       "      <th>...</th>\n",
       "      <td>...</td>\n",
       "      <td>...</td>\n",
       "      <td>...</td>\n",
       "      <td>...</td>\n",
       "      <td>...</td>\n",
       "    </tr>\n",
       "    <tr>\n",
       "      <th>4685</th>\n",
       "      <td>hpg_c6ed353a48c7c93e</td>\n",
       "      <td>hpg_9b38b9e13da6da27</td>\n",
       "      <td>Tōkyō-to Chiyoda-ku None</td>\n",
       "      <td>35.695780</td>\n",
       "      <td>139.768453</td>\n",
       "    </tr>\n",
       "    <tr>\n",
       "      <th>4686</th>\n",
       "      <td>hpg_a58d2423360b2fb4</td>\n",
       "      <td>hpg_9b38b9e13da6da27</td>\n",
       "      <td>Tōkyō-to Minato-ku Roppongi</td>\n",
       "      <td>35.666137</td>\n",
       "      <td>139.733978</td>\n",
       "    </tr>\n",
       "    <tr>\n",
       "      <th>4687</th>\n",
       "      <td>hpg_d2021704076cdd70</td>\n",
       "      <td>hpg_9b38b9e13da6da27</td>\n",
       "      <td>Tōkyō-to Chiyoda-ku None</td>\n",
       "      <td>35.695780</td>\n",
       "      <td>139.768453</td>\n",
       "    </tr>\n",
       "    <tr>\n",
       "      <th>4688</th>\n",
       "      <td>hpg_602472570d65e219</td>\n",
       "      <td>hpg_9b38b9e13da6da27</td>\n",
       "      <td>Tōkyō-to Toshima-ku None</td>\n",
       "      <td>35.730068</td>\n",
       "      <td>139.711742</td>\n",
       "    </tr>\n",
       "    <tr>\n",
       "      <th>4689</th>\n",
       "      <td>hpg_11801306ce8bfb4f</td>\n",
       "      <td>hpg_9b38b9e13da6da27</td>\n",
       "      <td>Osaka Prefecture Osaka None</td>\n",
       "      <td>34.701519</td>\n",
       "      <td>135.498859</td>\n",
       "    </tr>\n",
       "  </tbody>\n",
       "</table>\n",
       "<p>4690 rows × 5 columns</p>\n",
       "</div>"
      ],
      "text/plain": [
       "              hpg_store_id        hpg_genre_name                  hpg_area_name   latitude   longitude\n",
       "0     hpg_6622b62385aec8bf  hpg_9b38b9e13da6da27  Tōkyō-to Setagaya-ku Taishidō  35.643675  139.668221\n",
       "1     hpg_e9e068dd49c5fa00  hpg_9b38b9e13da6da27  Tōkyō-to Setagaya-ku Taishidō  35.643675  139.668221\n",
       "2     hpg_2976f7acb4b3a3bc  hpg_9b38b9e13da6da27  Tōkyō-to Setagaya-ku Taishidō  35.643675  139.668221\n",
       "3     hpg_e51a522e098f024c  hpg_9b38b9e13da6da27  Tōkyō-to Setagaya-ku Taishidō  35.643675  139.668221\n",
       "4     hpg_e3d0e1519894f275  hpg_9b38b9e13da6da27  Tōkyō-to Setagaya-ku Taishidō  35.643675  139.668221\n",
       "...                    ...                   ...                            ...        ...         ...\n",
       "4685  hpg_c6ed353a48c7c93e  hpg_9b38b9e13da6da27       Tōkyō-to Chiyoda-ku None  35.695780  139.768453\n",
       "4686  hpg_a58d2423360b2fb4  hpg_9b38b9e13da6da27    Tōkyō-to Minato-ku Roppongi  35.666137  139.733978\n",
       "4687  hpg_d2021704076cdd70  hpg_9b38b9e13da6da27       Tōkyō-to Chiyoda-ku None  35.695780  139.768453\n",
       "4688  hpg_602472570d65e219  hpg_9b38b9e13da6da27       Tōkyō-to Toshima-ku None  35.730068  139.711742\n",
       "4689  hpg_11801306ce8bfb4f  hpg_9b38b9e13da6da27    Osaka Prefecture Osaka None  34.701519  135.498859\n",
       "\n",
       "[4690 rows x 5 columns]"
      ]
     },
     "execution_count": 137,
     "metadata": {},
     "output_type": "execute_result"
    }
   ],
   "source": [
    "hpg_store_info"
   ]
  },
  {
   "cell_type": "code",
   "execution_count": 127,
   "id": "5e5f1512-ee63-4e0f-b709-cc3df064183a",
   "metadata": {},
   "outputs": [
    {
     "data": {
      "text/plain": [
       "(829, 10)"
      ]
     },
     "execution_count": 127,
     "metadata": {},
     "output_type": "execute_result"
    }
   ],
   "source": [
    "store_df=pd.merge(store_df,hpg_store_info,how='left',on='hpg_store_id',suffixes=['_air','_hpg'])\n",
    "store_df.shape"
   ]
  },
  {
   "cell_type": "code",
   "execution_count": 140,
   "id": "7f32ec34-33bd-488d-87e6-418e8be16514",
   "metadata": {},
   "outputs": [
    {
     "data": {
      "text/html": [
       "<div>\n",
       "<style scoped>\n",
       "    .dataframe tbody tr th:only-of-type {\n",
       "        vertical-align: middle;\n",
       "    }\n",
       "\n",
       "    .dataframe tbody tr th {\n",
       "        vertical-align: top;\n",
       "    }\n",
       "\n",
       "    .dataframe thead th {\n",
       "        text-align: right;\n",
       "    }\n",
       "</style>\n",
       "<table border=\"1\" class=\"dataframe\">\n",
       "  <thead>\n",
       "    <tr style=\"text-align: right;\">\n",
       "      <th></th>\n",
       "      <th>air_store_id</th>\n",
       "      <th>air_genre_name</th>\n",
       "      <th>air_area_name</th>\n",
       "      <th>latitude_air</th>\n",
       "      <th>longitude_air</th>\n",
       "      <th>hpg_store_id</th>\n",
       "      <th>hpg_genre_name</th>\n",
       "      <th>hpg_area_name</th>\n",
       "      <th>latitude_hpg</th>\n",
       "      <th>longitude_hpg</th>\n",
       "    </tr>\n",
       "  </thead>\n",
       "  <tbody>\n",
       "    <tr>\n",
       "      <th>0</th>\n",
       "      <td>air_0f0cdeee6c9bf3d7</td>\n",
       "      <td>Italian/French</td>\n",
       "      <td>Hyōgo-ken Kōbe-shi Kumoidōri</td>\n",
       "      <td>34.695124</td>\n",
       "      <td>135.197853</td>\n",
       "      <td>NaN</td>\n",
       "      <td>NaN</td>\n",
       "      <td>NaN</td>\n",
       "      <td>NaN</td>\n",
       "      <td>NaN</td>\n",
       "    </tr>\n",
       "    <tr>\n",
       "      <th>1</th>\n",
       "      <td>air_7cc17a324ae5c7dc</td>\n",
       "      <td>Italian/French</td>\n",
       "      <td>Hyōgo-ken Kōbe-shi Kumoidōri</td>\n",
       "      <td>34.695124</td>\n",
       "      <td>135.197853</td>\n",
       "      <td>hpg_9b38b9e13da6da27</td>\n",
       "      <td>NaN</td>\n",
       "      <td>NaN</td>\n",
       "      <td>NaN</td>\n",
       "      <td>NaN</td>\n",
       "    </tr>\n",
       "    <tr>\n",
       "      <th>2</th>\n",
       "      <td>air_fee8dcf4d619598e</td>\n",
       "      <td>Italian/French</td>\n",
       "      <td>Hyōgo-ken Kōbe-shi Kumoidōri</td>\n",
       "      <td>34.695124</td>\n",
       "      <td>135.197853</td>\n",
       "      <td>NaN</td>\n",
       "      <td>NaN</td>\n",
       "      <td>NaN</td>\n",
       "      <td>NaN</td>\n",
       "      <td>NaN</td>\n",
       "    </tr>\n",
       "    <tr>\n",
       "      <th>3</th>\n",
       "      <td>air_a17f0778617c76e2</td>\n",
       "      <td>Italian/French</td>\n",
       "      <td>Hyōgo-ken Kōbe-shi Kumoidōri</td>\n",
       "      <td>34.695124</td>\n",
       "      <td>135.197853</td>\n",
       "      <td>NaN</td>\n",
       "      <td>NaN</td>\n",
       "      <td>NaN</td>\n",
       "      <td>NaN</td>\n",
       "      <td>NaN</td>\n",
       "    </tr>\n",
       "    <tr>\n",
       "      <th>4</th>\n",
       "      <td>air_83db5aff8f50478e</td>\n",
       "      <td>Italian/French</td>\n",
       "      <td>Tōkyō-to Minato-ku Shibakōen</td>\n",
       "      <td>35.658068</td>\n",
       "      <td>139.751599</td>\n",
       "      <td>NaN</td>\n",
       "      <td>NaN</td>\n",
       "      <td>NaN</td>\n",
       "      <td>NaN</td>\n",
       "      <td>NaN</td>\n",
       "    </tr>\n",
       "  </tbody>\n",
       "</table>\n",
       "</div>"
      ],
      "text/plain": [
       "           air_store_id  air_genre_name                 air_area_name  latitude_air  longitude_air          hpg_store_id hpg_genre_name hpg_area_name  latitude_hpg  longitude_hpg\n",
       "0  air_0f0cdeee6c9bf3d7  Italian/French  Hyōgo-ken Kōbe-shi Kumoidōri     34.695124     135.197853                   NaN            NaN           NaN           NaN            NaN\n",
       "1  air_7cc17a324ae5c7dc  Italian/French  Hyōgo-ken Kōbe-shi Kumoidōri     34.695124     135.197853  hpg_9b38b9e13da6da27            NaN           NaN           NaN            NaN\n",
       "2  air_fee8dcf4d619598e  Italian/French  Hyōgo-ken Kōbe-shi Kumoidōri     34.695124     135.197853                   NaN            NaN           NaN           NaN            NaN\n",
       "3  air_a17f0778617c76e2  Italian/French  Hyōgo-ken Kōbe-shi Kumoidōri     34.695124     135.197853                   NaN            NaN           NaN           NaN            NaN\n",
       "4  air_83db5aff8f50478e  Italian/French  Tōkyō-to Minato-ku Shibakōen     35.658068     139.751599                   NaN            NaN           NaN           NaN            NaN"
      ]
     },
     "execution_count": 140,
     "metadata": {},
     "output_type": "execute_result"
    }
   ],
   "source": [
    "store_df.head()"
   ]
  },
  {
   "cell_type": "code",
   "execution_count": 141,
   "id": "1f394b80-1e73-4317-8054-e165c648cee2",
   "metadata": {},
   "outputs": [
    {
     "data": {
      "text/plain": [
       "766"
      ]
     },
     "execution_count": 141,
     "metadata": {},
     "output_type": "execute_result"
    }
   ],
   "source": [
    "store_df.hpg_genre_name.isnull().sum()"
   ]
  },
  {
   "cell_type": "markdown",
   "id": "c4366347-ba9d-4f25-ae45-65244a704bac",
   "metadata": {},
   "source": [
    "#### Prepare reserve data\n"
   ]
  },
  {
   "cell_type": "code",
   "execution_count": 142,
   "id": "4925b0c2-2007-48d5-b32c-6c013f4f5d8f",
   "metadata": {},
   "outputs": [
    {
     "data": {
      "text/html": [
       "<div>\n",
       "<style scoped>\n",
       "    .dataframe tbody tr th:only-of-type {\n",
       "        vertical-align: middle;\n",
       "    }\n",
       "\n",
       "    .dataframe tbody tr th {\n",
       "        vertical-align: top;\n",
       "    }\n",
       "\n",
       "    .dataframe thead th {\n",
       "        text-align: right;\n",
       "    }\n",
       "</style>\n",
       "<table border=\"1\" class=\"dataframe\">\n",
       "  <thead>\n",
       "    <tr style=\"text-align: right;\">\n",
       "      <th></th>\n",
       "      <th>hpg_store_id</th>\n",
       "      <th>visit_datetime</th>\n",
       "      <th>reserve_datetime</th>\n",
       "      <th>reserve_visitors</th>\n",
       "    </tr>\n",
       "  </thead>\n",
       "  <tbody>\n",
       "    <tr>\n",
       "      <th>0</th>\n",
       "      <td>hpg_c63f6f42e088e50f</td>\n",
       "      <td>2016-01-01 11:00:00</td>\n",
       "      <td>2016-01-01 09:00:00</td>\n",
       "      <td>1</td>\n",
       "    </tr>\n",
       "    <tr>\n",
       "      <th>1</th>\n",
       "      <td>hpg_dac72789163a3f47</td>\n",
       "      <td>2016-01-01 13:00:00</td>\n",
       "      <td>2016-01-01 06:00:00</td>\n",
       "      <td>3</td>\n",
       "    </tr>\n",
       "    <tr>\n",
       "      <th>2</th>\n",
       "      <td>hpg_c8e24dcf51ca1eb5</td>\n",
       "      <td>2016-01-01 16:00:00</td>\n",
       "      <td>2016-01-01 14:00:00</td>\n",
       "      <td>2</td>\n",
       "    </tr>\n",
       "    <tr>\n",
       "      <th>3</th>\n",
       "      <td>hpg_24bb207e5fd49d4a</td>\n",
       "      <td>2016-01-01 17:00:00</td>\n",
       "      <td>2016-01-01 11:00:00</td>\n",
       "      <td>5</td>\n",
       "    </tr>\n",
       "    <tr>\n",
       "      <th>4</th>\n",
       "      <td>hpg_25291c542ebb3bc2</td>\n",
       "      <td>2016-01-01 17:00:00</td>\n",
       "      <td>2016-01-01 03:00:00</td>\n",
       "      <td>13</td>\n",
       "    </tr>\n",
       "  </tbody>\n",
       "</table>\n",
       "</div>"
      ],
      "text/plain": [
       "           hpg_store_id       visit_datetime     reserve_datetime  reserve_visitors\n",
       "0  hpg_c63f6f42e088e50f  2016-01-01 11:00:00  2016-01-01 09:00:00                 1\n",
       "1  hpg_dac72789163a3f47  2016-01-01 13:00:00  2016-01-01 06:00:00                 3\n",
       "2  hpg_c8e24dcf51ca1eb5  2016-01-01 16:00:00  2016-01-01 14:00:00                 2\n",
       "3  hpg_24bb207e5fd49d4a  2016-01-01 17:00:00  2016-01-01 11:00:00                 5\n",
       "4  hpg_25291c542ebb3bc2  2016-01-01 17:00:00  2016-01-01 03:00:00                13"
      ]
     },
     "execution_count": 142,
     "metadata": {},
     "output_type": "execute_result"
    }
   ],
   "source": [
    "hpg_reserve.head()"
   ]
  },
  {
   "cell_type": "code",
   "execution_count": 143,
   "id": "87b0f781-baf7-457d-8986-dd5045e076b3",
   "metadata": {},
   "outputs": [
    {
     "name": "stdout",
     "output_type": "stream",
     "text": [
      "(28183, 4)\n"
     ]
    },
    {
     "data": {
      "text/html": [
       "<div>\n",
       "<style scoped>\n",
       "    .dataframe tbody tr th:only-of-type {\n",
       "        vertical-align: middle;\n",
       "    }\n",
       "\n",
       "    .dataframe tbody tr th {\n",
       "        vertical-align: top;\n",
       "    }\n",
       "\n",
       "    .dataframe thead th {\n",
       "        text-align: right;\n",
       "    }\n",
       "</style>\n",
       "<table border=\"1\" class=\"dataframe\">\n",
       "  <thead>\n",
       "    <tr style=\"text-align: right;\">\n",
       "      <th></th>\n",
       "      <th>air_store_id</th>\n",
       "      <th>visit_datetime</th>\n",
       "      <th>reserve_datetime</th>\n",
       "      <th>reserve_visitors</th>\n",
       "    </tr>\n",
       "  </thead>\n",
       "  <tbody>\n",
       "    <tr>\n",
       "      <th>0</th>\n",
       "      <td>air_db80363d35f10926</td>\n",
       "      <td>2016-01-01 19:00:00</td>\n",
       "      <td>2016-01-01 15:00:00</td>\n",
       "      <td>4</td>\n",
       "    </tr>\n",
       "    <tr>\n",
       "      <th>1</th>\n",
       "      <td>air_db80363d35f10926</td>\n",
       "      <td>2016-01-02 19:00:00</td>\n",
       "      <td>2016-01-02 14:00:00</td>\n",
       "      <td>2</td>\n",
       "    </tr>\n",
       "    <tr>\n",
       "      <th>2</th>\n",
       "      <td>air_db80363d35f10926</td>\n",
       "      <td>2016-01-03 18:00:00</td>\n",
       "      <td>2016-01-02 20:00:00</td>\n",
       "      <td>6</td>\n",
       "    </tr>\n",
       "    <tr>\n",
       "      <th>3</th>\n",
       "      <td>air_db80363d35f10926</td>\n",
       "      <td>2016-01-06 20:00:00</td>\n",
       "      <td>2016-01-04 22:00:00</td>\n",
       "      <td>3</td>\n",
       "    </tr>\n",
       "    <tr>\n",
       "      <th>4</th>\n",
       "      <td>air_db80363d35f10926</td>\n",
       "      <td>2016-01-11 18:00:00</td>\n",
       "      <td>2016-01-11 14:00:00</td>\n",
       "      <td>2</td>\n",
       "    </tr>\n",
       "  </tbody>\n",
       "</table>\n",
       "</div>"
      ],
      "text/plain": [
       "           air_store_id       visit_datetime     reserve_datetime  reserve_visitors\n",
       "0  air_db80363d35f10926  2016-01-01 19:00:00  2016-01-01 15:00:00                 4\n",
       "1  air_db80363d35f10926  2016-01-02 19:00:00  2016-01-02 14:00:00                 2\n",
       "2  air_db80363d35f10926  2016-01-03 18:00:00  2016-01-02 20:00:00                 6\n",
       "3  air_db80363d35f10926  2016-01-06 20:00:00  2016-01-04 22:00:00                 3\n",
       "4  air_db80363d35f10926  2016-01-11 18:00:00  2016-01-11 14:00:00                 2"
      ]
     },
     "execution_count": 143,
     "metadata": {},
     "output_type": "execute_result"
    }
   ],
   "source": [
    "hpg_reserve=pd.merge(hpg_reserve,store_id_relation,on='hpg_store_id')[air_reserve.columns]\n",
    "print(hpg_reserve.shape)\n",
    "hpg_reserve.head()"
   ]
  },
  {
   "cell_type": "code",
   "execution_count": 146,
   "id": "c50a9d65-bbf2-4e91-8723-58cb6bebb846",
   "metadata": {},
   "outputs": [
    {
     "data": {
      "text/plain": [
       "(92378, 4)"
      ]
     },
     "execution_count": 146,
     "metadata": {},
     "output_type": "execute_result"
    }
   ],
   "source": [
    "air_reserve.shape"
   ]
  },
  {
   "cell_type": "code",
   "execution_count": 147,
   "id": "a496467f-aad9-43c4-b271-dc30bf9ce6eb",
   "metadata": {},
   "outputs": [
    {
     "data": {
      "text/plain": [
       "(120561, 4)"
      ]
     },
     "execution_count": 147,
     "metadata": {},
     "output_type": "execute_result"
    }
   ],
   "source": [
    "reserve_df=pd.concat([hpg_reserve,air_reserve],axis=0)\n",
    "reserve_df.shape"
   ]
  },
  {
   "cell_type": "markdown",
   "id": "07c307ac-a3fe-4a81-b511-0f76a64bde47",
   "metadata": {},
   "source": [
    "#### Prepare Air visits data "
   ]
  },
  {
   "cell_type": "markdown",
   "id": "a5e6c047-d263-49f7-aa2b-5642a3dff176",
   "metadata": {},
   "source": [
    " Create 'id' column in air_visits data, need only those stores ids that we need to forecast"
   ]
  },
  {
   "cell_type": "code",
   "execution_count": 150,
   "id": "4ff10144-1365-49c0-a79c-e0e71635b619",
   "metadata": {},
   "outputs": [],
   "source": [
    "air_visit_data['id']=air_visit_data.air_store_id.str.cat(air_visit_data.visit_date.astype(str),sep='_')"
   ]
  },
  {
   "cell_type": "code",
   "execution_count": 153,
   "id": "67db0bff-22e8-47bd-9e43-e139c7a694a8",
   "metadata": {},
   "outputs": [
    {
     "data": {
      "text/html": [
       "<div>\n",
       "<style scoped>\n",
       "    .dataframe tbody tr th:only-of-type {\n",
       "        vertical-align: middle;\n",
       "    }\n",
       "\n",
       "    .dataframe tbody tr th {\n",
       "        vertical-align: top;\n",
       "    }\n",
       "\n",
       "    .dataframe thead th {\n",
       "        text-align: right;\n",
       "    }\n",
       "</style>\n",
       "<table border=\"1\" class=\"dataframe\">\n",
       "  <thead>\n",
       "    <tr style=\"text-align: right;\">\n",
       "      <th></th>\n",
       "      <th>id</th>\n",
       "      <th>air_store_id</th>\n",
       "      <th>visit_date</th>\n",
       "      <th>visitors</th>\n",
       "    </tr>\n",
       "  </thead>\n",
       "  <tbody>\n",
       "    <tr>\n",
       "      <th>0</th>\n",
       "      <td>air_ba937bf13d40fb24_2016-01-13</td>\n",
       "      <td>air_ba937bf13d40fb24</td>\n",
       "      <td>2016-01-13</td>\n",
       "      <td>25</td>\n",
       "    </tr>\n",
       "    <tr>\n",
       "      <th>1</th>\n",
       "      <td>air_ba937bf13d40fb24_2016-01-14</td>\n",
       "      <td>air_ba937bf13d40fb24</td>\n",
       "      <td>2016-01-14</td>\n",
       "      <td>32</td>\n",
       "    </tr>\n",
       "    <tr>\n",
       "      <th>2</th>\n",
       "      <td>air_ba937bf13d40fb24_2016-01-15</td>\n",
       "      <td>air_ba937bf13d40fb24</td>\n",
       "      <td>2016-01-15</td>\n",
       "      <td>29</td>\n",
       "    </tr>\n",
       "    <tr>\n",
       "      <th>3</th>\n",
       "      <td>air_ba937bf13d40fb24_2016-01-16</td>\n",
       "      <td>air_ba937bf13d40fb24</td>\n",
       "      <td>2016-01-16</td>\n",
       "      <td>22</td>\n",
       "    </tr>\n",
       "    <tr>\n",
       "      <th>4</th>\n",
       "      <td>air_ba937bf13d40fb24_2016-01-18</td>\n",
       "      <td>air_ba937bf13d40fb24</td>\n",
       "      <td>2016-01-18</td>\n",
       "      <td>6</td>\n",
       "    </tr>\n",
       "    <tr>\n",
       "      <th>...</th>\n",
       "      <td>...</td>\n",
       "      <td>...</td>\n",
       "      <td>...</td>\n",
       "      <td>...</td>\n",
       "    </tr>\n",
       "    <tr>\n",
       "      <th>252103</th>\n",
       "      <td>air_24e8414b9b07decb_2017-04-18</td>\n",
       "      <td>air_24e8414b9b07decb</td>\n",
       "      <td>2017-04-18</td>\n",
       "      <td>6</td>\n",
       "    </tr>\n",
       "    <tr>\n",
       "      <th>252104</th>\n",
       "      <td>air_24e8414b9b07decb_2017-04-19</td>\n",
       "      <td>air_24e8414b9b07decb</td>\n",
       "      <td>2017-04-19</td>\n",
       "      <td>6</td>\n",
       "    </tr>\n",
       "    <tr>\n",
       "      <th>252105</th>\n",
       "      <td>air_24e8414b9b07decb_2017-04-20</td>\n",
       "      <td>air_24e8414b9b07decb</td>\n",
       "      <td>2017-04-20</td>\n",
       "      <td>7</td>\n",
       "    </tr>\n",
       "    <tr>\n",
       "      <th>252106</th>\n",
       "      <td>air_24e8414b9b07decb_2017-04-21</td>\n",
       "      <td>air_24e8414b9b07decb</td>\n",
       "      <td>2017-04-21</td>\n",
       "      <td>8</td>\n",
       "    </tr>\n",
       "    <tr>\n",
       "      <th>252107</th>\n",
       "      <td>air_24e8414b9b07decb_2017-04-22</td>\n",
       "      <td>air_24e8414b9b07decb</td>\n",
       "      <td>2017-04-22</td>\n",
       "      <td>5</td>\n",
       "    </tr>\n",
       "  </tbody>\n",
       "</table>\n",
       "<p>252108 rows × 4 columns</p>\n",
       "</div>"
      ],
      "text/plain": [
       "                                     id          air_store_id  visit_date  visitors\n",
       "0       air_ba937bf13d40fb24_2016-01-13  air_ba937bf13d40fb24  2016-01-13        25\n",
       "1       air_ba937bf13d40fb24_2016-01-14  air_ba937bf13d40fb24  2016-01-14        32\n",
       "2       air_ba937bf13d40fb24_2016-01-15  air_ba937bf13d40fb24  2016-01-15        29\n",
       "3       air_ba937bf13d40fb24_2016-01-16  air_ba937bf13d40fb24  2016-01-16        22\n",
       "4       air_ba937bf13d40fb24_2016-01-18  air_ba937bf13d40fb24  2016-01-18         6\n",
       "...                                 ...                   ...         ...       ...\n",
       "252103  air_24e8414b9b07decb_2017-04-18  air_24e8414b9b07decb  2017-04-18         6\n",
       "252104  air_24e8414b9b07decb_2017-04-19  air_24e8414b9b07decb  2017-04-19         6\n",
       "252105  air_24e8414b9b07decb_2017-04-20  air_24e8414b9b07decb  2017-04-20         7\n",
       "252106  air_24e8414b9b07decb_2017-04-21  air_24e8414b9b07decb  2017-04-21         8\n",
       "252107  air_24e8414b9b07decb_2017-04-22  air_24e8414b9b07decb  2017-04-22         5\n",
       "\n",
       "[252108 rows x 4 columns]"
      ]
     },
     "execution_count": 153,
     "metadata": {},
     "output_type": "execute_result"
    }
   ],
   "source": [
    "air_visit_data=air_visit_data[[\"id\",\"air_store_id\",\"visit_date\",\"visitors\"]]\n",
    "air_visit_data"
   ]
  },
  {
   "cell_type": "markdown",
   "id": "11bd8bfa-8d36-4829-88a3-a34da815671d",
   "metadata": {},
   "source": [
    "#### Submission data"
   ]
  },
  {
   "cell_type": "code",
   "execution_count": 155,
   "id": "3f09f9d8-1586-4acb-894f-cafea70b0e24",
   "metadata": {},
   "outputs": [
    {
     "data": {
      "text/html": [
       "<div>\n",
       "<style scoped>\n",
       "    .dataframe tbody tr th:only-of-type {\n",
       "        vertical-align: middle;\n",
       "    }\n",
       "\n",
       "    .dataframe tbody tr th {\n",
       "        vertical-align: top;\n",
       "    }\n",
       "\n",
       "    .dataframe thead th {\n",
       "        text-align: right;\n",
       "    }\n",
       "</style>\n",
       "<table border=\"1\" class=\"dataframe\">\n",
       "  <thead>\n",
       "    <tr style=\"text-align: right;\">\n",
       "      <th></th>\n",
       "      <th>id</th>\n",
       "      <th>air_store_id</th>\n",
       "      <th>visit_date</th>\n",
       "      <th>visitors</th>\n",
       "    </tr>\n",
       "  </thead>\n",
       "  <tbody>\n",
       "    <tr>\n",
       "      <th>0</th>\n",
       "      <td>air_00a91d42b08b08d9_2017-04-23</td>\n",
       "      <td>air_00a91d42b08b08d9</td>\n",
       "      <td>2017-04-23</td>\n",
       "      <td>0</td>\n",
       "    </tr>\n",
       "    <tr>\n",
       "      <th>1</th>\n",
       "      <td>air_00a91d42b08b08d9_2017-04-24</td>\n",
       "      <td>air_00a91d42b08b08d9</td>\n",
       "      <td>2017-04-24</td>\n",
       "      <td>0</td>\n",
       "    </tr>\n",
       "    <tr>\n",
       "      <th>2</th>\n",
       "      <td>air_00a91d42b08b08d9_2017-04-25</td>\n",
       "      <td>air_00a91d42b08b08d9</td>\n",
       "      <td>2017-04-25</td>\n",
       "      <td>0</td>\n",
       "    </tr>\n",
       "    <tr>\n",
       "      <th>3</th>\n",
       "      <td>air_00a91d42b08b08d9_2017-04-26</td>\n",
       "      <td>air_00a91d42b08b08d9</td>\n",
       "      <td>2017-04-26</td>\n",
       "      <td>0</td>\n",
       "    </tr>\n",
       "    <tr>\n",
       "      <th>4</th>\n",
       "      <td>air_00a91d42b08b08d9_2017-04-27</td>\n",
       "      <td>air_00a91d42b08b08d9</td>\n",
       "      <td>2017-04-27</td>\n",
       "      <td>0</td>\n",
       "    </tr>\n",
       "  </tbody>\n",
       "</table>\n",
       "</div>"
      ],
      "text/plain": [
       "                                id          air_store_id  visit_date  visitors\n",
       "0  air_00a91d42b08b08d9_2017-04-23  air_00a91d42b08b08d9  2017-04-23         0\n",
       "1  air_00a91d42b08b08d9_2017-04-24  air_00a91d42b08b08d9  2017-04-24         0\n",
       "2  air_00a91d42b08b08d9_2017-04-25  air_00a91d42b08b08d9  2017-04-25         0\n",
       "3  air_00a91d42b08b08d9_2017-04-26  air_00a91d42b08b08d9  2017-04-26         0\n",
       "4  air_00a91d42b08b08d9_2017-04-27  air_00a91d42b08b08d9  2017-04-27         0"
      ]
     },
     "execution_count": 155,
     "metadata": {},
     "output_type": "execute_result"
    }
   ],
   "source": [
    "sample_submission=sample_submission[[\"id\",'air_store_id',\"visit_date\",\"visitors\"]]\n",
    "sample_submission.head()"
   ]
  },
  {
   "cell_type": "markdown",
   "id": "26ef5de0-8a93-4bfb-8af8-dd8a7df3f2cb",
   "metadata": {},
   "source": [
    "Airvisits has 252108 rows , but we will kepp only those present in sample submission "
   ]
  },
  {
   "cell_type": "code",
   "execution_count": 156,
   "id": "e053c5fb-848b-4fe8-9b65-6d0419ef4c7a",
   "metadata": {},
   "outputs": [
    {
     "data": {
      "text/plain": [
       "(250468, 4)"
      ]
     },
     "execution_count": 156,
     "metadata": {},
     "output_type": "execute_result"
    }
   ],
   "source": [
    "air_visit_data=air_visit_data.loc[air_visit_data.air_store_id.isin(sample_submission.air_store_id),]\n",
    "air_visit_data.shape"
   ]
  },
  {
   "cell_type": "markdown",
   "id": "d13856c5-0c49-4265-a993-229f268ce1a2",
   "metadata": {},
   "source": [
    "concat row-wise , the air visits data and the submission data,keeping only those air idds that are present in submission data, because we care to forecast only those"
   ]
  },
  {
   "cell_type": "code",
   "execution_count": 160,
   "id": "636920fe-6f55-42b2-a379-a59cd2b88020",
   "metadata": {},
   "outputs": [],
   "source": [
    "visits_df=pd.concat([air_visit_data,sample_submission],axis=0,keys=['past','future'],names=['dataset']).reset_index(level='dataset')\\\n",
    "                                                    .reset_index(drop=True)"
   ]
  },
  {
   "cell_type": "code",
   "execution_count": 161,
   "id": "c26fd9f4-c408-4e18-aa35-65ae75661140",
   "metadata": {},
   "outputs": [
    {
     "data": {
      "text/html": [
       "<div>\n",
       "<style scoped>\n",
       "    .dataframe tbody tr th:only-of-type {\n",
       "        vertical-align: middle;\n",
       "    }\n",
       "\n",
       "    .dataframe tbody tr th {\n",
       "        vertical-align: top;\n",
       "    }\n",
       "\n",
       "    .dataframe thead th {\n",
       "        text-align: right;\n",
       "    }\n",
       "</style>\n",
       "<table border=\"1\" class=\"dataframe\">\n",
       "  <thead>\n",
       "    <tr style=\"text-align: right;\">\n",
       "      <th></th>\n",
       "      <th>dataset</th>\n",
       "      <th>id</th>\n",
       "      <th>air_store_id</th>\n",
       "      <th>visit_date</th>\n",
       "      <th>visitors</th>\n",
       "    </tr>\n",
       "  </thead>\n",
       "  <tbody>\n",
       "    <tr>\n",
       "      <th>0</th>\n",
       "      <td>past</td>\n",
       "      <td>air_ba937bf13d40fb24_2016-01-13</td>\n",
       "      <td>air_ba937bf13d40fb24</td>\n",
       "      <td>2016-01-13</td>\n",
       "      <td>25</td>\n",
       "    </tr>\n",
       "    <tr>\n",
       "      <th>1</th>\n",
       "      <td>past</td>\n",
       "      <td>air_ba937bf13d40fb24_2016-01-14</td>\n",
       "      <td>air_ba937bf13d40fb24</td>\n",
       "      <td>2016-01-14</td>\n",
       "      <td>32</td>\n",
       "    </tr>\n",
       "    <tr>\n",
       "      <th>2</th>\n",
       "      <td>past</td>\n",
       "      <td>air_ba937bf13d40fb24_2016-01-15</td>\n",
       "      <td>air_ba937bf13d40fb24</td>\n",
       "      <td>2016-01-15</td>\n",
       "      <td>29</td>\n",
       "    </tr>\n",
       "    <tr>\n",
       "      <th>3</th>\n",
       "      <td>past</td>\n",
       "      <td>air_ba937bf13d40fb24_2016-01-16</td>\n",
       "      <td>air_ba937bf13d40fb24</td>\n",
       "      <td>2016-01-16</td>\n",
       "      <td>22</td>\n",
       "    </tr>\n",
       "    <tr>\n",
       "      <th>4</th>\n",
       "      <td>past</td>\n",
       "      <td>air_ba937bf13d40fb24_2016-01-18</td>\n",
       "      <td>air_ba937bf13d40fb24</td>\n",
       "      <td>2016-01-18</td>\n",
       "      <td>6</td>\n",
       "    </tr>\n",
       "    <tr>\n",
       "      <th>...</th>\n",
       "      <td>...</td>\n",
       "      <td>...</td>\n",
       "      <td>...</td>\n",
       "      <td>...</td>\n",
       "      <td>...</td>\n",
       "    </tr>\n",
       "    <tr>\n",
       "      <th>282482</th>\n",
       "      <td>future</td>\n",
       "      <td>air_fff68b929994bfbd_2017-05-27</td>\n",
       "      <td>air_fff68b929994bfbd</td>\n",
       "      <td>2017-05-27</td>\n",
       "      <td>0</td>\n",
       "    </tr>\n",
       "    <tr>\n",
       "      <th>282483</th>\n",
       "      <td>future</td>\n",
       "      <td>air_fff68b929994bfbd_2017-05-28</td>\n",
       "      <td>air_fff68b929994bfbd</td>\n",
       "      <td>2017-05-28</td>\n",
       "      <td>0</td>\n",
       "    </tr>\n",
       "    <tr>\n",
       "      <th>282484</th>\n",
       "      <td>future</td>\n",
       "      <td>air_fff68b929994bfbd_2017-05-29</td>\n",
       "      <td>air_fff68b929994bfbd</td>\n",
       "      <td>2017-05-29</td>\n",
       "      <td>0</td>\n",
       "    </tr>\n",
       "    <tr>\n",
       "      <th>282485</th>\n",
       "      <td>future</td>\n",
       "      <td>air_fff68b929994bfbd_2017-05-30</td>\n",
       "      <td>air_fff68b929994bfbd</td>\n",
       "      <td>2017-05-30</td>\n",
       "      <td>0</td>\n",
       "    </tr>\n",
       "    <tr>\n",
       "      <th>282486</th>\n",
       "      <td>future</td>\n",
       "      <td>air_fff68b929994bfbd_2017-05-31</td>\n",
       "      <td>air_fff68b929994bfbd</td>\n",
       "      <td>2017-05-31</td>\n",
       "      <td>0</td>\n",
       "    </tr>\n",
       "  </tbody>\n",
       "</table>\n",
       "<p>282487 rows × 5 columns</p>\n",
       "</div>"
      ],
      "text/plain": [
       "       dataset                               id          air_store_id  visit_date  visitors\n",
       "0         past  air_ba937bf13d40fb24_2016-01-13  air_ba937bf13d40fb24  2016-01-13        25\n",
       "1         past  air_ba937bf13d40fb24_2016-01-14  air_ba937bf13d40fb24  2016-01-14        32\n",
       "2         past  air_ba937bf13d40fb24_2016-01-15  air_ba937bf13d40fb24  2016-01-15        29\n",
       "3         past  air_ba937bf13d40fb24_2016-01-16  air_ba937bf13d40fb24  2016-01-16        22\n",
       "4         past  air_ba937bf13d40fb24_2016-01-18  air_ba937bf13d40fb24  2016-01-18         6\n",
       "...        ...                              ...                   ...         ...       ...\n",
       "282482  future  air_fff68b929994bfbd_2017-05-27  air_fff68b929994bfbd  2017-05-27         0\n",
       "282483  future  air_fff68b929994bfbd_2017-05-28  air_fff68b929994bfbd  2017-05-28         0\n",
       "282484  future  air_fff68b929994bfbd_2017-05-29  air_fff68b929994bfbd  2017-05-29         0\n",
       "282485  future  air_fff68b929994bfbd_2017-05-30  air_fff68b929994bfbd  2017-05-30         0\n",
       "282486  future  air_fff68b929994bfbd_2017-05-31  air_fff68b929994bfbd  2017-05-31         0\n",
       "\n",
       "[282487 rows x 5 columns]"
      ]
     },
     "execution_count": 161,
     "metadata": {},
     "output_type": "execute_result"
    }
   ],
   "source": [
    "visits_df"
   ]
  },
  {
   "cell_type": "markdown",
   "id": "3fa7eabd-eec1-40a1-8868-f5746a6fa4a9",
   "metadata": {},
   "source": [
    "#### Date info"
   ]
  },
  {
   "cell_type": "code",
   "execution_count": 162,
   "id": "3aa63632-7a5f-4d22-bdfc-60748e1bc87a",
   "metadata": {},
   "outputs": [
    {
     "data": {
      "text/html": [
       "<div>\n",
       "<style scoped>\n",
       "    .dataframe tbody tr th:only-of-type {\n",
       "        vertical-align: middle;\n",
       "    }\n",
       "\n",
       "    .dataframe tbody tr th {\n",
       "        vertical-align: top;\n",
       "    }\n",
       "\n",
       "    .dataframe thead th {\n",
       "        text-align: right;\n",
       "    }\n",
       "</style>\n",
       "<table border=\"1\" class=\"dataframe\">\n",
       "  <thead>\n",
       "    <tr style=\"text-align: right;\">\n",
       "      <th></th>\n",
       "      <th>calendar_date</th>\n",
       "      <th>day_of_week</th>\n",
       "      <th>holiday_flg</th>\n",
       "    </tr>\n",
       "  </thead>\n",
       "  <tbody>\n",
       "    <tr>\n",
       "      <th>0</th>\n",
       "      <td>2016-01-01</td>\n",
       "      <td>Friday</td>\n",
       "      <td>1</td>\n",
       "    </tr>\n",
       "    <tr>\n",
       "      <th>1</th>\n",
       "      <td>2016-01-02</td>\n",
       "      <td>Saturday</td>\n",
       "      <td>1</td>\n",
       "    </tr>\n",
       "    <tr>\n",
       "      <th>2</th>\n",
       "      <td>2016-01-03</td>\n",
       "      <td>Sunday</td>\n",
       "      <td>1</td>\n",
       "    </tr>\n",
       "    <tr>\n",
       "      <th>3</th>\n",
       "      <td>2016-01-04</td>\n",
       "      <td>Monday</td>\n",
       "      <td>0</td>\n",
       "    </tr>\n",
       "    <tr>\n",
       "      <th>4</th>\n",
       "      <td>2016-01-05</td>\n",
       "      <td>Tuesday</td>\n",
       "      <td>0</td>\n",
       "    </tr>\n",
       "  </tbody>\n",
       "</table>\n",
       "</div>"
      ],
      "text/plain": [
       "  calendar_date day_of_week  holiday_flg\n",
       "0    2016-01-01      Friday            1\n",
       "1    2016-01-02    Saturday            1\n",
       "2    2016-01-03      Sunday            1\n",
       "3    2016-01-04      Monday            0\n",
       "4    2016-01-05     Tuesday            0"
      ]
     },
     "execution_count": 162,
     "metadata": {},
     "output_type": "execute_result"
    }
   ],
   "source": [
    "date_info.head()\n"
   ]
  },
  {
   "cell_type": "code",
   "execution_count": 163,
   "id": "093e9f3b-4a95-4f69-a461-6430841dec73",
   "metadata": {},
   "outputs": [],
   "source": [
    "#changing the datatype\n",
    "date_info.rename(columns={\"calendar_date\":\"visit_date\"},inplace=True)\n"
   ]
  },
  {
   "cell_type": "code",
   "execution_count": 165,
   "id": "9df774a6-6fe9-47da-876e-00c05e96e5a7",
   "metadata": {},
   "outputs": [],
   "source": [
    "date_info['visit_date']=pd.to_datetime(date_info.visit_date,format='%Y-%m-%d')"
   ]
  },
  {
   "cell_type": "code",
   "execution_count": 169,
   "id": "c7843c7f-49e3-444d-a839-4d840298fa47",
   "metadata": {},
   "outputs": [
    {
     "data": {
      "text/html": [
       "<div>\n",
       "<style scoped>\n",
       "    .dataframe tbody tr th:only-of-type {\n",
       "        vertical-align: middle;\n",
       "    }\n",
       "\n",
       "    .dataframe tbody tr th {\n",
       "        vertical-align: top;\n",
       "    }\n",
       "\n",
       "    .dataframe thead th {\n",
       "        text-align: right;\n",
       "    }\n",
       "</style>\n",
       "<table border=\"1\" class=\"dataframe\">\n",
       "  <thead>\n",
       "    <tr style=\"text-align: right;\">\n",
       "      <th></th>\n",
       "      <th>visit_date</th>\n",
       "      <th>day_of_week</th>\n",
       "      <th>holiday_flg</th>\n",
       "      <th>weekend</th>\n",
       "    </tr>\n",
       "  </thead>\n",
       "  <tbody>\n",
       "    <tr>\n",
       "      <th>0</th>\n",
       "      <td>2016-01-01</td>\n",
       "      <td>Friday</td>\n",
       "      <td>1</td>\n",
       "      <td>0</td>\n",
       "    </tr>\n",
       "    <tr>\n",
       "      <th>1</th>\n",
       "      <td>2016-01-02</td>\n",
       "      <td>Saturday</td>\n",
       "      <td>1</td>\n",
       "      <td>1</td>\n",
       "    </tr>\n",
       "    <tr>\n",
       "      <th>2</th>\n",
       "      <td>2016-01-03</td>\n",
       "      <td>Sunday</td>\n",
       "      <td>1</td>\n",
       "      <td>1</td>\n",
       "    </tr>\n",
       "    <tr>\n",
       "      <th>3</th>\n",
       "      <td>2016-01-04</td>\n",
       "      <td>Monday</td>\n",
       "      <td>0</td>\n",
       "      <td>0</td>\n",
       "    </tr>\n",
       "    <tr>\n",
       "      <th>4</th>\n",
       "      <td>2016-01-05</td>\n",
       "      <td>Tuesday</td>\n",
       "      <td>0</td>\n",
       "      <td>0</td>\n",
       "    </tr>\n",
       "  </tbody>\n",
       "</table>\n",
       "</div>"
      ],
      "text/plain": [
       "  visit_date day_of_week  holiday_flg  weekend\n",
       "0 2016-01-01      Friday            1        0\n",
       "1 2016-01-02    Saturday            1        1\n",
       "2 2016-01-03      Sunday            1        1\n",
       "3 2016-01-04      Monday            0        0\n",
       "4 2016-01-05     Tuesday            0        0"
      ]
     },
     "execution_count": 169,
     "metadata": {},
     "output_type": "execute_result"
    }
   ],
   "source": [
    "date_info.head()"
   ]
  },
  {
   "cell_type": "code",
   "execution_count": 168,
   "id": "7daead9d-61ec-4075-a1a3-84e50ddb9cdc",
   "metadata": {},
   "outputs": [],
   "source": [
    "#create a weekedn variable \n",
    "date_info['weekend']=[1 if (day=='Saturday' or day=='Sunday') else 0 for day in date_info.day_of_week]"
   ]
  },
  {
   "cell_type": "code",
   "execution_count": null,
   "id": "14980789-32da-4e1d-a68b-ff6b9282b50d",
   "metadata": {},
   "outputs": [],
   "source": []
  }
 ],
 "metadata": {
  "kernelspec": {
   "display_name": "Python 3 (ipykernel)",
   "language": "python",
   "name": "python3"
  },
  "language_info": {
   "codemirror_mode": {
    "name": "ipython",
    "version": 3
   },
   "file_extension": ".py",
   "mimetype": "text/x-python",
   "name": "python",
   "nbconvert_exporter": "python",
   "pygments_lexer": "ipython3",
   "version": "3.11.7"
  }
 },
 "nbformat": 4,
 "nbformat_minor": 5
}
