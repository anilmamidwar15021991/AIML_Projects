{
 "cells": [
  {
   "cell_type": "code",
   "execution_count": 1,
   "metadata": {},
   "outputs": [],
   "source": [
    "import pandas as pd\n",
    "import pickle\n",
    "from sklearn.model_selection import train_test_split\n",
    "import catboost\n",
    "from catboost import CatBoostClassifier"
   ]
  },
  {
   "cell_type": "code",
   "execution_count": 2,
   "metadata": {},
   "outputs": [
    {
     "name": "stdout",
     "output_type": "stream",
     "text": [
      "catboost version: 0.23.2\n",
      "Importing Data\n"
     ]
    }
   ],
   "source": [
    "print(\"catboost version:\", catboost.__version__)\n",
    "print(\"Importing Data\")\n",
    "df = pd.read_csv('german_creditrisk_data.csv')"
   ]
  },
  {
   "cell_type": "code",
   "execution_count": 3,
   "metadata": {},
   "outputs": [
    {
     "name": "stdout",
     "output_type": "stream",
     "text": [
      "Processing Data\n",
      "     Age     Sex  Job Housing Saving accounts Checking account  Credit amount  \\\n",
      "703   41    male    2     own        moderate         moderate           2503   \n",
      "311   25    male    2     own        moderate              NaN           5511   \n",
      "722   24  female    1     own          little           little           1228   \n",
      "629   64    male    1     own             NaN              NaN           3832   \n",
      "0     67    male    2     own             NaN           little           1169   \n",
      "\n",
      "     Duration              Purpose  \n",
      "703        30             business  \n",
      "311        24  furniture/equipment  \n",
      "722        12                  car  \n",
      "629         9            education  \n",
      "0           6             radio/TV  \n"
     ]
    }
   ],
   "source": [
    "print(\"Processing Data\")\n",
    "df.fillna('NaN', inplace=True)\n",
    "x = df.iloc[:, :-1]\n",
    "y = df.iloc[:, -1]\n",
    "X_train, X_test, y_train, y_test = train_test_split(x, y, test_size=0.33, random_state=42)\n",
    "print(X_train.head())"
   ]
  },
  {
   "cell_type": "code",
   "execution_count": 4,
   "metadata": {},
   "outputs": [
    {
     "name": "stdout",
     "output_type": "stream",
     "text": [
      "Train Model\n"
     ]
    }
   ],
   "source": [
    "print(\"Train Model\")\n",
    "model = CatBoostClassifier(iterations=2,\n",
    "                           learning_rate=1,\n",
    "                           depth=2)"
   ]
  },
  {
   "cell_type": "code",
   "execution_count": 5,
   "metadata": {},
   "outputs": [
    {
     "name": "stdout",
     "output_type": "stream",
     "text": [
      "0:\tlearn: 0.5648399\ttotal: 70.2ms\tremaining: 70.2ms\n",
      "1:\tlearn: 0.5414153\ttotal: 79.3ms\tremaining: 0us\n",
      "Creating Pickle File\n"
     ]
    }
   ],
   "source": [
    "model.fit(X_train, y_train, cat_features=['Sex', 'Job', 'Housing', 'Saving accounts', 'Checking account', 'Purpose'] )\n",
    "\n",
    "print(\"Creating Pickle File\")\n",
    "# pickle.dump(model, open('ml_model.pkl', 'wb'))"
   ]
  }
 ],
 "metadata": {
  "kernelspec": {
   "display_name": "Python 3",
   "language": "python",
   "name": "python3"
  },
  "language_info": {
   "codemirror_mode": {
    "name": "ipython",
    "version": 3
   },
   "file_extension": ".py",
   "mimetype": "text/x-python",
   "name": "python",
   "nbconvert_exporter": "python",
   "pygments_lexer": "ipython3",
   "version": "3.7.1"
  }
 },
 "nbformat": 4,
 "nbformat_minor": 2
}
